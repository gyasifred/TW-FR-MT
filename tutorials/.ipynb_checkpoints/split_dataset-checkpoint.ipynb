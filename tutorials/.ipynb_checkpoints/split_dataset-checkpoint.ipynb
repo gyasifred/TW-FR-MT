{
 "cells": [
  {
   "cell_type": "markdown",
   "id": "083c8eec-da61-4d87-9ad8-63e92f78e42f",
   "metadata": {},
   "source": [
    "This notebook demonstrate how to split the datasets into training, validation, and testing sets"
   ]
  },
  {
   "cell_type": "markdown",
   "id": "7dfe9ec8-553f-440c-bc70-f2124b87f885",
   "metadata": {},
   "source": [
    "## Clone the repository"
   ]
  },
  {
   "cell_type": "code",
   "execution_count": 1,
   "id": "529fec11-b2bd-4866-b9b3-97ceb121cb8c",
   "metadata": {},
   "outputs": [
    {
     "ename": "SyntaxError",
     "evalue": "invalid syntax (3404525001.py, line 1)",
     "output_type": "error",
     "traceback": [
      "\u001b[0;36m  File \u001b[0;32m\"/tmp/ipykernel_8202/3404525001.py\"\u001b[0;36m, line \u001b[0;32m1\u001b[0m\n\u001b[0;31m    git clone https://github.com/gyasifred/kasafranse.git\u001b[0m\n\u001b[0m        ^\u001b[0m\n\u001b[0;31mSyntaxError\u001b[0m\u001b[0;31m:\u001b[0m invalid syntax\n"
     ]
    }
   ],
   "source": [
    "git clone https://github.com/gyasifred/kasafranse.git"
   ]
  },
  {
   "cell_type": "code",
   "execution_count": null,
   "id": "56c8a2b8-ba10-4f2a-bf89-2b276b49947b",
   "metadata": {},
   "outputs": [],
   "source": [
    "!git clone https://github.com/gyasifred/kasafranse.git"
   ]
  }
 ],
 "metadata": {
  "kernelspec": {
   "display_name": "Python 3 (ipykernel)",
   "language": "python",
   "name": "python3"
  },
  "language_info": {
   "codemirror_mode": {
    "name": "ipython",
    "version": 3
   },
   "file_extension": ".py",
   "mimetype": "text/x-python",
   "name": "python",
   "nbconvert_exporter": "python",
   "pygments_lexer": "ipython3",
   "version": "3.9.7"
  }
 },
 "nbformat": 4,
 "nbformat_minor": 5
}
