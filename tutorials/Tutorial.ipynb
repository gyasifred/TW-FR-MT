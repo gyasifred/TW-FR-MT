{
  "cells": [
    {
      "cell_type": "markdown",
      "metadata": {
        "colab_type": "text",
        "id": "view-in-github"
      },
      "source": [
        "<a href=\"https://colab.research.google.com/github/gyasifred/TW-FR-MT/blob/main/tutorials/Tutorial.ipynb\" target=\"_parent\"><img src=\"https://colab.research.google.com/assets/colab-badge.svg\" alt=\"Open In Colab\"/></a>"
      ]
    },
    {
      "cell_type": "markdown",
      "metadata": {
        "id": "XJwW9M02k9q6"
      },
      "source": [
        "# Twi-French Machine Translation"
      ]
    },
    {
      "cell_type": "code",
      "execution_count": null,
      "metadata": {
        "colab": {
          "base_uri": "https://localhost:8080/"
        },
        "id": "6a0_C_-6fX3X",
        "outputId": "32b3120a-d81e-4d90-c862-f286ef1bac58"
      },
      "outputs": [
        {
          "name": "stdout",
          "output_type": "stream",
          "text": [
            "Mounted at /content/drive\n"
          ]
        }
      ],
      "source": [
        "from google.colab import drive\n",
        "drive.mount('/content/drive')"
      ]
    },
    {
      "cell_type": "markdown",
      "metadata": {
        "id": "ENLubxfsGeua"
      },
      "source": [
        "\n",
        "In this tutorial, we will illustrate how to\n",
        " \n",
        "1. fine-tune the pre-trained [Helsinki-NLP/opus-mt-tw-fr](https://huggingface.co/Helsinki-NLP/opus-mt-tw-fr) from the [OPUS-MT](https://opus.nlpl.eu/Opus-MT/) repository for machine translation of Twi (the local Ghanaian language) to French.\n",
        " \n",
        "2. perform translations with the fine-tuned OPUS-MT model.\n",
        "3. estimate the machine translation quality with the [BLEU score](https://aclanthology.org/P02-1040.pdf), AzunreBLEU score, the [TER score](https://aclanthology.org/2006.amta-papers.25/) and the [SacreBLEU score](https://aclanthology.org/W18-6319.pdf).\n",
        "\n",
        "*** The AzunreBLEU score is a variant of the BLEU score that was used for evaluating machine translation quality in the paper [English-Twi Parallel Corpus for Machine Translation](https://arxiv.org/pdf/2103.15625.pdf) indicating that the focus is on \"adequacy\" instead of \"fluency\" in the translations.\n"
      ]
    },
    {
      "cell_type": "markdown",
      "metadata": {
        "id": "3904ZdrhmuRD"
      },
      "source": [
        "## [Optional] Download already-fine-tuned Twi models.\n",
        "\n",
        "\n",
        "Fine-tuned Twi OPUS-MT models can be downloaded from [Google Drive](https://drive.google.com/drive/folders/13irIvPsqnryP_NJ5y6PneFKrQDJs5Qm6?usp=sharing). "
      ]
    },
    {
      "cell_type": "markdown",
      "metadata": {
        "id": "t0pZ6duaM4PX"
      },
      "source": [
        "\n",
        "This tutorial uses GPU; to use GPU, please go to EDIT on the menu bar, notebook settings, and choose GPU for the hardware accelerator, then save."
      ]
    },
    {
      "cell_type": "markdown",
      "metadata": {
        "id": "eeRghrAZOmIP"
      },
      "source": [
        "## Clone TW-FR-MT Github Repository\n",
        "\n"
      ]
    },
    {
      "cell_type": "code",
      "execution_count": null,
      "metadata": {
        "colab": {
          "base_uri": "https://localhost:8080/"
        },
        "id": "lRcZA-ETOuBO",
        "outputId": "aa8ea2b7-ccd9-4c72-fcb0-dc28fb4adcc2"
      },
      "outputs": [
        {
          "name": "stdout",
          "output_type": "stream",
          "text": [
            "Cloning into 'TW-FR-MT'...\n",
            "remote: Enumerating objects: 156, done.\u001b[K\n",
            "remote: Counting objects: 100% (156/156), done.\u001b[K\n",
            "remote: Compressing objects: 100% (111/111), done.\u001b[K\n",
            "remote: Total 156 (delta 71), reused 112 (delta 42), pack-reused 0\u001b[K\n",
            "Receiving objects: 100% (156/156), 1.05 MiB | 7.66 MiB/s, done.\n",
            "Resolving deltas: 100% (71/71), done.\n"
          ]
        }
      ],
      "source": [
        "!git clone https://github.com/gyasifred/TW-FR-MT.git"
      ]
    },
    {
      "cell_type": "code",
      "execution_count": null,
      "metadata": {
        "colab": {
          "base_uri": "https://localhost:8080/"
        },
        "id": "RV5bu-yzPhkR",
        "outputId": "546de071-582c-4ed7-bc77-9edbcfcf4fa1"
      },
      "outputs": [
        {
          "name": "stdout",
          "output_type": "stream",
          "text": [
            "/content/TW-FR-MT\n"
          ]
        }
      ],
      "source": [
        "%cd TW-FR-MT/"
      ]
    },
    {
      "cell_type": "code",
      "execution_count": null,
      "metadata": {
        "colab": {
          "base_uri": "https://localhost:8080/"
        },
        "id": "amKuO9lncd2j",
        "outputId": "7be1c610-d25f-491d-b106-28a37c13ea6a"
      },
      "outputs": [
        {
          "name": "stdout",
          "output_type": "stream",
          "text": [
            "__init__.py  MT_systems  requirements.txt  TW_FR_EN_corpus\n",
            "LICENSE      README.md\t tutorials\n"
          ]
        }
      ],
      "source": [
        "!ls"
      ]
    },
    {
      "cell_type": "markdown",
      "metadata": {
        "id": "4ZTEFZFnNlnT"
      },
      "source": [
        "## Install Dependencies\n"
      ]
    },
    {
      "cell_type": "code",
      "execution_count": null,
      "metadata": {
        "colab": {
          "base_uri": "https://localhost:8080/"
        },
        "id": "MiI0BgPsMDbs",
        "outputId": "c6a5563c-8498-4a86-d555-66c469ba5c56"
      },
      "outputs": [
        {
          "name": "stdout",
          "output_type": "stream",
          "text": [
            "Looking in indexes: https://pypi.org/simple, https://us-python.pkg.dev/colab-wheels/public/simple/\n",
            "Collecting scikit-learn==1.0.2\n",
            "  Downloading scikit_learn-1.0.2-cp310-cp310-manylinux_2_17_x86_64.manylinux2014_x86_64.whl (26.5 MB)\n",
            "\u001b[2K     \u001b[90m━━━━━━━━━━━━━━━━━━━━━━━━━━━━━━━━━━━━━━━━\u001b[0m \u001b[32m26.5/26.5 MB\u001b[0m \u001b[31m49.0 MB/s\u001b[0m eta \u001b[36m0:00:00\u001b[0m\n",
            "\u001b[?25hCollecting transformers\n",
            "  Downloading transformers-4.28.1-py3-none-any.whl (7.0 MB)\n",
            "\u001b[2K     \u001b[90m━━━━━━━━━━━━━━━━━━━━━━━━━━━━━━━━━━━━━━━━\u001b[0m \u001b[32m7.0/7.0 MB\u001b[0m \u001b[31m91.2 MB/s\u001b[0m eta \u001b[36m0:00:00\u001b[0m\n",
            "\u001b[?25hCollecting sentencepiece\n",
            "  Downloading sentencepiece-0.1.98-cp310-cp310-manylinux_2_17_x86_64.manylinux2014_x86_64.whl (1.3 MB)\n",
            "\u001b[2K     \u001b[90m━━━━━━━━━━━━━━━━━━━━━━━━━━━━━━━━━━━━━━━━\u001b[0m \u001b[32m1.3/1.3 MB\u001b[0m \u001b[31m66.5 MB/s\u001b[0m eta \u001b[36m0:00:00\u001b[0m\n",
            "\u001b[?25hCollecting evaluate==0.3.0\n",
            "  Downloading evaluate-0.3.0-py3-none-any.whl (72 kB)\n",
            "\u001b[2K     \u001b[90m━━━━━━━━━━━━━━━━━━━━━━━━━━━━━━━━━━━━━━━━\u001b[0m \u001b[32m72.9/72.9 kB\u001b[0m \u001b[31m9.3 MB/s\u001b[0m eta \u001b[36m0:00:00\u001b[0m\n",
            "\u001b[?25hCollecting googletrans==3.1.0a0\n",
            "  Downloading googletrans-3.1.0a0.tar.gz (19 kB)\n",
            "  Preparing metadata (setup.py) ... \u001b[?25l\u001b[?25hdone\n",
            "Collecting accelerate==0.14.0\n",
            "  Downloading accelerate-0.14.0-py3-none-any.whl (175 kB)\n",
            "\u001b[2K     \u001b[90m━━━━━━━━━━━━━━━━━━━━━━━━━━━━━━━━━━━━━━\u001b[0m \u001b[32m176.0/176.0 kB\u001b[0m \u001b[31m20.8 MB/s\u001b[0m eta \u001b[36m0:00:00\u001b[0m\n",
            "\u001b[?25hCollecting sacrebleu==2.3.1\n",
            "  Downloading sacrebleu-2.3.1-py3-none-any.whl (118 kB)\n",
            "\u001b[2K     \u001b[90m━━━━━━━━━━━━━━━━━━━━━━━━━━━━━━━━━━━━━━\u001b[0m \u001b[32m118.9/118.9 kB\u001b[0m \u001b[31m16.7 MB/s\u001b[0m eta \u001b[36m0:00:00\u001b[0m\n",
            "\u001b[?25hCollecting nltk==3.7\n",
            "  Downloading nltk-3.7-py3-none-any.whl (1.5 MB)\n",
            "\u001b[2K     \u001b[90m━━━━━━━━━━━━━━━━━━━━━━━━━━━━━━━━━━━━━━━━\u001b[0m \u001b[32m1.5/1.5 MB\u001b[0m \u001b[31m79.3 MB/s\u001b[0m eta \u001b[36m0:00:00\u001b[0m\n",
            "\u001b[?25hCollecting sacremoses==0.0.53\n",
            "  Downloading sacremoses-0.0.53.tar.gz (880 kB)\n",
            "\u001b[2K     \u001b[90m━━━━━━━━━━━━━━━━━━━━━━━━━━━━━━━━━━━━━━\u001b[0m \u001b[32m880.6/880.6 kB\u001b[0m \u001b[31m61.3 MB/s\u001b[0m eta \u001b[36m0:00:00\u001b[0m\n",
            "\u001b[?25h  Preparing metadata (setup.py) ... \u001b[?25l\u001b[?25hdone\n",
            "Requirement already satisfied: scipy>=1.1.0 in /usr/local/lib/python3.10/dist-packages (from scikit-learn==1.0.2->-r requirements.txt (line 1)) (1.10.1)\n",
            "Requirement already satisfied: threadpoolctl>=2.0.0 in /usr/local/lib/python3.10/dist-packages (from scikit-learn==1.0.2->-r requirements.txt (line 1)) (3.1.0)\n",
            "Requirement already satisfied: joblib>=0.11 in /usr/local/lib/python3.10/dist-packages (from scikit-learn==1.0.2->-r requirements.txt (line 1)) (1.2.0)\n",
            "Requirement already satisfied: numpy>=1.14.6 in /usr/local/lib/python3.10/dist-packages (from scikit-learn==1.0.2->-r requirements.txt (line 1)) (1.22.4)\n",
            "Collecting multiprocess\n",
            "  Downloading multiprocess-0.70.14-py310-none-any.whl (134 kB)\n",
            "\u001b[2K     \u001b[90m━━━━━━━━━━━━━━━━━━━━━━━━━━━━━━━━━━━━━━\u001b[0m \u001b[32m134.3/134.3 kB\u001b[0m \u001b[31m15.7 MB/s\u001b[0m eta \u001b[36m0:00:00\u001b[0m\n",
            "\u001b[?25hCollecting dill\n",
            "  Downloading dill-0.3.6-py3-none-any.whl (110 kB)\n",
            "\u001b[2K     \u001b[90m━━━━━━━━━━━━━━━━━━━━━━━━━━━━━━━━━━━━━━\u001b[0m \u001b[32m110.5/110.5 kB\u001b[0m \u001b[31m14.5 MB/s\u001b[0m eta \u001b[36m0:00:00\u001b[0m\n",
            "\u001b[?25hRequirement already satisfied: requests>=2.19.0 in /usr/local/lib/python3.10/dist-packages (from evaluate==0.3.0->-r requirements.txt (line 4)) (2.27.1)\n",
            "Collecting datasets>=2.0.0\n",
            "  Downloading datasets-2.12.0-py3-none-any.whl (474 kB)\n",
            "\u001b[2K     \u001b[90m━━━━━━━━━━━━━━━━━━━━━━━━━━━━━━━━━━━━━━\u001b[0m \u001b[32m474.6/474.6 kB\u001b[0m \u001b[31m45.6 MB/s\u001b[0m eta \u001b[36m0:00:00\u001b[0m\n",
            "\u001b[?25hRequirement already satisfied: tqdm>=4.62.1 in /usr/local/lib/python3.10/dist-packages (from evaluate==0.3.0->-r requirements.txt (line 4)) (4.65.0)\n",
            "Collecting huggingface-hub>=0.7.0\n",
            "  Downloading huggingface_hub-0.14.1-py3-none-any.whl (224 kB)\n",
            "\u001b[2K     \u001b[90m━━━━━━━━━━━━━━━━━━━━━━━━━━━━━━━━━━━━━━\u001b[0m \u001b[32m224.5/224.5 kB\u001b[0m \u001b[31m24.9 MB/s\u001b[0m eta \u001b[36m0:00:00\u001b[0m\n",
            "\u001b[?25hRequirement already satisfied: packaging in /usr/local/lib/python3.10/dist-packages (from evaluate==0.3.0->-r requirements.txt (line 4)) (23.1)\n",
            "Requirement already satisfied: fsspec[http]>=2021.05.0 in /usr/local/lib/python3.10/dist-packages (from evaluate==0.3.0->-r requirements.txt (line 4)) (2023.4.0)\n",
            "Collecting xxhash\n",
            "  Downloading xxhash-3.2.0-cp310-cp310-manylinux_2_17_x86_64.manylinux2014_x86_64.whl (212 kB)\n",
            "\u001b[2K     \u001b[90m━━━━━━━━━━━━━━━━━━━━━━━━━━━━━━━━━━━━━━\u001b[0m \u001b[32m212.5/212.5 kB\u001b[0m \u001b[31m24.0 MB/s\u001b[0m eta \u001b[36m0:00:00\u001b[0m\n",
            "\u001b[?25hRequirement already satisfied: pandas in /usr/local/lib/python3.10/dist-packages (from evaluate==0.3.0->-r requirements.txt (line 4)) (1.5.3)\n",
            "Collecting responses<0.19\n",
            "  Downloading responses-0.18.0-py3-none-any.whl (38 kB)\n",
            "Collecting httpx==0.13.3\n",
            "  Downloading httpx-0.13.3-py3-none-any.whl (55 kB)\n",
            "\u001b[2K     \u001b[90m━━━━━━━━━━━━━━━━━━━━━━━━━━━━━━━━━━━━━━━━\u001b[0m \u001b[32m55.1/55.1 kB\u001b[0m \u001b[31m6.9 MB/s\u001b[0m eta \u001b[36m0:00:00\u001b[0m\n",
            "\u001b[?25hRequirement already satisfied: psutil in /usr/local/lib/python3.10/dist-packages (from accelerate==0.14.0->-r requirements.txt (line 6)) (5.9.5)\n",
            "Requirement already satisfied: pyyaml in /usr/local/lib/python3.10/dist-packages (from accelerate==0.14.0->-r requirements.txt (line 6)) (6.0)\n",
            "Requirement already satisfied: torch>=1.4.0 in /usr/local/lib/python3.10/dist-packages (from accelerate==0.14.0->-r requirements.txt (line 6)) (2.0.0+cu118)\n",
            "Requirement already satisfied: regex in /usr/local/lib/python3.10/dist-packages (from sacrebleu==2.3.1->-r requirements.txt (line 7)) (2022.10.31)\n",
            "Collecting portalocker\n",
            "  Downloading portalocker-2.7.0-py2.py3-none-any.whl (15 kB)\n",
            "Requirement already satisfied: tabulate>=0.8.9 in /usr/local/lib/python3.10/dist-packages (from sacrebleu==2.3.1->-r requirements.txt (line 7)) (0.8.10)\n",
            "Requirement already satisfied: lxml in /usr/local/lib/python3.10/dist-packages (from sacrebleu==2.3.1->-r requirements.txt (line 7)) (4.9.2)\n",
            "Collecting colorama\n",
            "  Downloading colorama-0.4.6-py2.py3-none-any.whl (25 kB)\n",
            "Requirement already satisfied: click in /usr/local/lib/python3.10/dist-packages (from nltk==3.7->-r requirements.txt (line 8)) (8.1.3)\n",
            "Requirement already satisfied: six in /usr/local/lib/python3.10/dist-packages (from sacremoses==0.0.53->-r requirements.txt (line 9)) (1.16.0)\n",
            "Requirement already satisfied: sniffio in /usr/local/lib/python3.10/dist-packages (from httpx==0.13.3->googletrans==3.1.0a0->-r requirements.txt (line 5)) (1.3.0)\n",
            "Collecting hstspreload\n",
            "  Downloading hstspreload-2023.1.1-py3-none-any.whl (1.5 MB)\n",
            "\u001b[2K     \u001b[90m━━━━━━━━━━━━━━━━━━━━━━━━━━━━━━━━━━━━━━━━\u001b[0m \u001b[32m1.5/1.5 MB\u001b[0m \u001b[31m73.2 MB/s\u001b[0m eta \u001b[36m0:00:00\u001b[0m\n",
            "\u001b[?25hCollecting httpcore==0.9.*\n",
            "  Downloading httpcore-0.9.1-py3-none-any.whl (42 kB)\n",
            "\u001b[2K     \u001b[90m━━━━━━━━━━━━━━━━━━━━━━━━━━━━━━━━━━━━━━━━\u001b[0m \u001b[32m42.6/42.6 kB\u001b[0m \u001b[31m4.9 MB/s\u001b[0m eta \u001b[36m0:00:00\u001b[0m\n",
            "\u001b[?25hCollecting idna==2.*\n",
            "  Downloading idna-2.10-py2.py3-none-any.whl (58 kB)\n",
            "\u001b[2K     \u001b[90m━━━━━━━━━━━━━━━━━━━━━━━━━━━━━━━━━━━━━━━━\u001b[0m \u001b[32m58.8/58.8 kB\u001b[0m \u001b[31m7.7 MB/s\u001b[0m eta \u001b[36m0:00:00\u001b[0m\n",
            "\u001b[?25hCollecting chardet==3.*\n",
            "  Downloading chardet-3.0.4-py2.py3-none-any.whl (133 kB)\n",
            "\u001b[2K     \u001b[90m━━━━━━━━━━━━━━━━━━━━━━━━━━━━━━━━━━━━━━\u001b[0m \u001b[32m133.4/133.4 kB\u001b[0m \u001b[31m17.8 MB/s\u001b[0m eta \u001b[36m0:00:00\u001b[0m\n",
            "\u001b[?25hCollecting rfc3986<2,>=1.3\n",
            "  Downloading rfc3986-1.5.0-py2.py3-none-any.whl (31 kB)\n",
            "Requirement already satisfied: certifi in /usr/local/lib/python3.10/dist-packages (from httpx==0.13.3->googletrans==3.1.0a0->-r requirements.txt (line 5)) (2022.12.7)\n",
            "Collecting h11<0.10,>=0.8\n",
            "  Downloading h11-0.9.0-py2.py3-none-any.whl (53 kB)\n",
            "\u001b[2K     \u001b[90m━━━━━━━━━━━━━━━━━━━━━━━━━━━━━━━━━━━━━━━━\u001b[0m \u001b[32m53.6/53.6 kB\u001b[0m \u001b[31m7.6 MB/s\u001b[0m eta \u001b[36m0:00:00\u001b[0m\n",
            "\u001b[?25hCollecting h2==3.*\n",
            "  Downloading h2-3.2.0-py2.py3-none-any.whl (65 kB)\n",
            "\u001b[2K     \u001b[90m━━━━━━━━━━━━━━━━━━━━━━━━━━━━━━━━━━━━━━━━\u001b[0m \u001b[32m65.0/65.0 kB\u001b[0m \u001b[31m8.9 MB/s\u001b[0m eta \u001b[36m0:00:00\u001b[0m\n",
            "\u001b[?25hCollecting hpack<4,>=3.0\n",
            "  Downloading hpack-3.0.0-py2.py3-none-any.whl (38 kB)\n",
            "Collecting hyperframe<6,>=5.2.0\n",
            "  Downloading hyperframe-5.2.0-py2.py3-none-any.whl (12 kB)\n",
            "Requirement already satisfied: filelock in /usr/local/lib/python3.10/dist-packages (from transformers->-r requirements.txt (line 2)) (3.12.0)\n",
            "Collecting tokenizers!=0.11.3,<0.14,>=0.11.1\n",
            "  Downloading tokenizers-0.13.3-cp310-cp310-manylinux_2_17_x86_64.manylinux2014_x86_64.whl (7.8 MB)\n",
            "\u001b[2K     \u001b[90m━━━━━━━━━━━━━━━━━━━━━━━━━━━━━━━━━━━━━━━━\u001b[0m \u001b[32m7.8/7.8 MB\u001b[0m \u001b[31m101.1 MB/s\u001b[0m eta \u001b[36m0:00:00\u001b[0m\n",
            "\u001b[?25hCollecting aiohttp\n",
            "  Downloading aiohttp-3.8.4-cp310-cp310-manylinux_2_17_x86_64.manylinux2014_x86_64.whl (1.0 MB)\n",
            "\u001b[2K     \u001b[90m━━━━━━━━━━━━━━━━━━━━━━━━━━━━━━━━━━━━━━━━\u001b[0m \u001b[32m1.0/1.0 MB\u001b[0m \u001b[31m51.0 MB/s\u001b[0m eta \u001b[36m0:00:00\u001b[0m\n",
            "\u001b[?25hRequirement already satisfied: pyarrow>=8.0.0 in /usr/local/lib/python3.10/dist-packages (from datasets>=2.0.0->evaluate==0.3.0->-r requirements.txt (line 4)) (9.0.0)\n",
            "Requirement already satisfied: typing-extensions>=3.7.4.3 in /usr/local/lib/python3.10/dist-packages (from huggingface-hub>=0.7.0->evaluate==0.3.0->-r requirements.txt (line 4)) (4.5.0)\n",
            "Requirement already satisfied: urllib3<1.27,>=1.21.1 in /usr/local/lib/python3.10/dist-packages (from requests>=2.19.0->evaluate==0.3.0->-r requirements.txt (line 4)) (1.26.15)\n",
            "Requirement already satisfied: charset-normalizer~=2.0.0 in /usr/local/lib/python3.10/dist-packages (from requests>=2.19.0->evaluate==0.3.0->-r requirements.txt (line 4)) (2.0.12)\n",
            "Requirement already satisfied: sympy in /usr/local/lib/python3.10/dist-packages (from torch>=1.4.0->accelerate==0.14.0->-r requirements.txt (line 6)) (1.11.1)\n",
            "Requirement already satisfied: networkx in /usr/local/lib/python3.10/dist-packages (from torch>=1.4.0->accelerate==0.14.0->-r requirements.txt (line 6)) (3.1)\n",
            "Requirement already satisfied: triton==2.0.0 in /usr/local/lib/python3.10/dist-packages (from torch>=1.4.0->accelerate==0.14.0->-r requirements.txt (line 6)) (2.0.0)\n",
            "Requirement already satisfied: jinja2 in /usr/local/lib/python3.10/dist-packages (from torch>=1.4.0->accelerate==0.14.0->-r requirements.txt (line 6)) (3.1.2)\n",
            "Requirement already satisfied: lit in /usr/local/lib/python3.10/dist-packages (from triton==2.0.0->torch>=1.4.0->accelerate==0.14.0->-r requirements.txt (line 6)) (16.0.2)\n",
            "Requirement already satisfied: cmake in /usr/local/lib/python3.10/dist-packages (from triton==2.0.0->torch>=1.4.0->accelerate==0.14.0->-r requirements.txt (line 6)) (3.25.2)\n",
            "Requirement already satisfied: python-dateutil>=2.8.1 in /usr/local/lib/python3.10/dist-packages (from pandas->evaluate==0.3.0->-r requirements.txt (line 4)) (2.8.2)\n",
            "Requirement already satisfied: pytz>=2020.1 in /usr/local/lib/python3.10/dist-packages (from pandas->evaluate==0.3.0->-r requirements.txt (line 4)) (2022.7.1)\n",
            "Collecting frozenlist>=1.1.1\n",
            "  Downloading frozenlist-1.3.3-cp310-cp310-manylinux_2_5_x86_64.manylinux1_x86_64.manylinux_2_17_x86_64.manylinux2014_x86_64.whl (149 kB)\n",
            "\u001b[2K     \u001b[90m━━━━━━━━━━━━━━━━━━━━━━━━━━━━━━━━━━━━━━\u001b[0m \u001b[32m149.6/149.6 kB\u001b[0m \u001b[31m14.4 MB/s\u001b[0m eta \u001b[36m0:00:00\u001b[0m\n",
            "\u001b[?25hCollecting aiosignal>=1.1.2\n",
            "  Downloading aiosignal-1.3.1-py3-none-any.whl (7.6 kB)\n",
            "Collecting yarl<2.0,>=1.0\n",
            "  Downloading yarl-1.9.2-cp310-cp310-manylinux_2_17_x86_64.manylinux2014_x86_64.whl (268 kB)\n",
            "\u001b[2K     \u001b[90m━━━━━━━━━━━━━━━━━━━━━━━━━━━━━━━━━━━━━━\u001b[0m \u001b[32m268.8/268.8 kB\u001b[0m \u001b[31m26.3 MB/s\u001b[0m eta \u001b[36m0:00:00\u001b[0m\n",
            "\u001b[?25hCollecting async-timeout<5.0,>=4.0.0a3\n",
            "  Downloading async_timeout-4.0.2-py3-none-any.whl (5.8 kB)\n",
            "Collecting multidict<7.0,>=4.5\n",
            "  Downloading multidict-6.0.4-cp310-cp310-manylinux_2_17_x86_64.manylinux2014_x86_64.whl (114 kB)\n",
            "\u001b[2K     \u001b[90m━━━━━━━━━━━━━━━━━━━━━━━━━━━━━━━━━━━━━━\u001b[0m \u001b[32m114.5/114.5 kB\u001b[0m \u001b[31m12.3 MB/s\u001b[0m eta \u001b[36m0:00:00\u001b[0m\n",
            "\u001b[?25hRequirement already satisfied: attrs>=17.3.0 in /usr/local/lib/python3.10/dist-packages (from aiohttp->datasets>=2.0.0->evaluate==0.3.0->-r requirements.txt (line 4)) (23.1.0)\n",
            "Requirement already satisfied: MarkupSafe>=2.0 in /usr/local/lib/python3.10/dist-packages (from jinja2->torch>=1.4.0->accelerate==0.14.0->-r requirements.txt (line 6)) (2.1.2)\n",
            "Requirement already satisfied: mpmath>=0.19 in /usr/local/lib/python3.10/dist-packages (from sympy->torch>=1.4.0->accelerate==0.14.0->-r requirements.txt (line 6)) (1.3.0)\n",
            "Building wheels for collected packages: googletrans, sacremoses\n",
            "  Building wheel for googletrans (setup.py) ... \u001b[?25l\u001b[?25hdone\n",
            "  Created wheel for googletrans: filename=googletrans-3.1.0a0-py3-none-any.whl size=16368 sha256=2d755e792e9e8220a64685a17b3e87cc628ebf5a2485544bffe79a132dfd332e\n",
            "  Stored in directory: /root/.cache/pip/wheels/50/5d/3c/8477d0af4ca2b8b1308812c09f1930863caeebc762fe265a95\n",
            "  Building wheel for sacremoses (setup.py) ... \u001b[?25l\u001b[?25hdone\n",
            "  Created wheel for sacremoses: filename=sacremoses-0.0.53-py3-none-any.whl size=895259 sha256=ec9a5c595518d5808e58544f0f2cb5d79b4653101cb5f02c526a6b8ce7ff4f5d\n",
            "  Stored in directory: /root/.cache/pip/wheels/00/24/97/a2ea5324f36bc626e1ea0267f33db6aa80d157ee977e9e42fb\n",
            "Successfully built googletrans sacremoses\n",
            "Installing collected packages: tokenizers, sentencepiece, rfc3986, hyperframe, hpack, h11, chardet, xxhash, sacremoses, portalocker, nltk, multidict, idna, hstspreload, h2, frozenlist, dill, colorama, async-timeout, yarl, scikit-learn, sacrebleu, multiprocess, httpcore, aiosignal, responses, huggingface-hub, httpx, aiohttp, transformers, googletrans, datasets, evaluate, accelerate\n",
            "  Attempting uninstall: chardet\n",
            "    Found existing installation: chardet 4.0.0\n",
            "    Uninstalling chardet-4.0.0:\n",
            "      Successfully uninstalled chardet-4.0.0\n",
            "  Attempting uninstall: nltk\n",
            "    Found existing installation: nltk 3.8.1\n",
            "    Uninstalling nltk-3.8.1:\n",
            "      Successfully uninstalled nltk-3.8.1\n",
            "  Attempting uninstall: idna\n",
            "    Found existing installation: idna 3.4\n",
            "    Uninstalling idna-3.4:\n",
            "      Successfully uninstalled idna-3.4\n",
            "  Attempting uninstall: scikit-learn\n",
            "    Found existing installation: scikit-learn 1.2.2\n",
            "    Uninstalling scikit-learn-1.2.2:\n",
            "      Successfully uninstalled scikit-learn-1.2.2\n",
            "Successfully installed accelerate-0.14.0 aiohttp-3.8.4 aiosignal-1.3.1 async-timeout-4.0.2 chardet-3.0.4 colorama-0.4.6 datasets-2.12.0 dill-0.3.6 evaluate-0.3.0 frozenlist-1.3.3 googletrans-3.1.0a0 h11-0.9.0 h2-3.2.0 hpack-3.0.0 hstspreload-2023.1.1 httpcore-0.9.1 httpx-0.13.3 huggingface-hub-0.14.1 hyperframe-5.2.0 idna-2.10 multidict-6.0.4 multiprocess-0.70.14 nltk-3.7 portalocker-2.7.0 responses-0.18.0 rfc3986-1.5.0 sacrebleu-2.3.1 sacremoses-0.0.53 scikit-learn-1.0.2 sentencepiece-0.1.98 tokenizers-0.13.3 transformers-4.28.1 xxhash-3.2.0 yarl-1.9.2\n"
          ]
        }
      ],
      "source": [
        "!pip install -r requirements.txt"
      ]
    },
    {
      "cell_type": "markdown",
      "metadata": {
        "id": "6ZMyGaybmVwJ"
      },
      "source": [
        "## Training, Validation, and Test sets\n",
        "\n"
      ]
    },
    {
      "cell_type": "markdown",
      "metadata": {
        "id": "zW8C5_aVpJ6A"
      },
      "source": [
        "\n",
        "Get the help message for how to use any script by passing the -h flag."
      ]
    },
    {
      "cell_type": "code",
      "execution_count": null,
      "metadata": {
        "id": "TN3gLXggmUZa"
      },
      "outputs": [],
      "source": [
        "#!python /content/TW-FR-MT/TW_FR_EN_corpus/scripts/train_test_split.py -h"
      ]
    },
    {
      "cell_type": "code",
      "execution_count": null,
      "metadata": {
        "colab": {
          "base_uri": "https://localhost:8080/"
        },
        "id": "Ph4P473kocRI",
        "outputId": "9c0d07e0-5b0c-4dc3-d18e-2b83ff3e9b3a"
      },
      "outputs": [
        {
          "name": "stdout",
          "output_type": "stream",
          "text": [
            "SUCCESS\n"
          ]
        }
      ],
      "source": [
        "!python /content/TW-FR-MT/TW_FR_EN_corpus/scripts/train_test_split.py \\\n",
        "/content/TW-FR-MT/TW_FR_EN_corpus/data/total/total_tw.txt \\\n",
        "/content/TW-FR-MT/TW_FR_EN_corpus/data/total/total_en.txt \\\n",
        "/content/TW-FR-MT/TW_FR_EN_corpus/data/total/total_fr.txt \\\n",
        "--id_tw tw \\\n",
        "--id_en en \\\n",
        "--id_fr fr \\\n",
        "--train_ouput_path /content/TW-FR-MT/TW_FR_EN_corpus/data/training \\\n",
        "--test_ouput_path /content/TW-FR-MT/TW_FR_EN_corpus/data/test \\\n",
        "--val_ouput_path  /content/TW-FR-MT/TW_FR_EN_corpus/data/validation \\\n",
        "--val_set True"
      ]
    },
    {
      "cell_type": "markdown",
      "metadata": {
        "id": "gvWgNDRXQPuw"
      },
      "source": [
        "## Fine-tuning the OPUS-MT Model\n"
      ]
    },
    {
      "cell_type": "code",
      "execution_count": null,
      "metadata": {
        "id": "5iEqSaRpNzVa"
      },
      "outputs": [],
      "source": [
        "#!python /content/TW-FR-MT/MT_systems/opus/fine_tune_opus.py -h"
      ]
    },
    {
      "cell_type": "code",
      "execution_count": 1,
      "metadata": {
        "colab": {
          "base_uri": "https://localhost:8080/"
        },
        "id": "ILIBv64VSA7Y",
        "outputId": "dacaed38-91f2-40ce-f676-60e14aa13bd5"
      },
      "outputs": [
        {
          "ename": "SyntaxError",
          "evalue": "invalid syntax (3576149627.py, line 2)",
          "output_type": "error",
          "traceback": [
            "\u001b[0;36m  Input \u001b[0;32mIn [1]\u001b[0;36m\u001b[0m\n\u001b[0;31m    content/TW-FR-MT/TW_FR_EN_corpus/data/training/train_fr.txt(/content/TW-FR-MT/TW_FR_EN_corpus/data/validation/val_tw.txt, /content/TW-FR-MT/TW_FR_EN_corpus/data/validation/val_fr.txt, tw, fr, OPUS-mt-tw-fr-tuned-1, --max_length, 128, --batch_size, 8, --epoch, 24, --warmup_steps, 10, --savedir, /content/drive/MyDrive/MT)\u001b[0m\n\u001b[0m                                                                ^\u001b[0m\n\u001b[0;31mSyntaxError\u001b[0m\u001b[0;31m:\u001b[0m invalid syntax\n"
          ]
        }
      ],
      "source": [
        "!python /content/TW-FR-MT/MT_systems/opus/fine_tune_opus.py \\\n",
        "Helsinki-NLP/opus-mt-tw-fr \\\n",
        "/content/TW-FR-MT/TW_FR_EN_corpus/data/training/train_tw.txt \\ \n",
        "/content/TW-FR-MT/TW_FR_EN_corpus/data/training/train_fr.txt \\\n",
        " /content/TW-FR-MT/TW_FR_EN_corpus/data/validation/val_tw.txt \\\n",
        " /content/TW-FR-MT/TW_FR_EN_corpus/data/validation/val_fr.txt \\\n",
        "tw \\\n",
        "fr \\\n",
        "OPUS-mt-tw-fr-tuned-1\\\n",
        "--max_length 128 \\\n",
        "--batch_size 8 \\\n",
        "--epoch 24 \\\n",
        "--warmup_steps 10 \\\n",
        "--savedir /content/drive/MyDrive/MT"
      ]
    },
    {
      "cell_type": "markdown",
      "metadata": {
        "id": "djayZAn5dRVY"
      },
      "source": [
        "\n",
        "## Translate with the Fine-tuned OPUS-MT Model\n",
        "\n"
      ]
    },
    {
      "cell_type": "code",
      "execution_count": null,
      "metadata": {
        "colab": {
          "base_uri": "https://localhost:8080/"
        },
        "id": "wlhS7RyuS5nR",
        "outputId": "acdc3eb3-1438-4a31-c395-b57d79f0fd40"
      },
      "outputs": [
        {
          "name": "stdout",
          "output_type": "stream",
          "text": [
            "2023-04-02 01:24:58.494485: I tensorflow/core/platform/cpu_feature_guard.cc:182] This TensorFlow binary is optimized to use available CPU instructions in performance-critical operations.\n",
            "To enable the following instructions: AVX2 AVX512F FMA, in other operations, rebuild TensorFlow with the appropriate compiler flags.\n",
            "2023-04-02 01:24:59.671837: W tensorflow/compiler/tf2tensorrt/utils/py_utils.cc:38] TF-TRT Warning: Could not find TensorRT\n"
          ]
        }
      ],
      "source": [
        "!python /content/TW-FR-MT/MT_systems/opus/opus_direct_translate.py \\\n",
        "/content/drive/MyDrive/MT/OPUS-mt-tw-fr-tuned-1 \\\n",
        "/content/TW-FR-MT/TW_FR_EN_corpus/data/test/test_tw.txt \\\n",
        "--output_name tw-fr-opus-translate"
      ]
    },
    {
      "cell_type": "markdown",
      "metadata": {
        "id": "DoCHwP4Ulx7O"
      },
      "source": [
        "## Evaluate the Translation Quality of the OPUS-MT Model"
      ]
    },
    {
      "cell_type": "markdown",
      "metadata": {
        "id": "RDIf-KGfmDc-"
      },
      "source": [
        "### BLEU Score"
      ]
    },
    {
      "cell_type": "code",
      "execution_count": null,
      "metadata": {
        "colab": {
          "base_uri": "https://localhost:8080/"
        },
        "id": "HUxpm6UJeaV4",
        "outputId": "e879efbc-30a8-4d49-c6ab-b3593b296f8f"
      },
      "outputs": [
        {
          "name": "stdout",
          "output_type": "stream",
          "text": [
            "2023-04-02 01:43:27.365605: I tensorflow/core/platform/cpu_feature_guard.cc:182] This TensorFlow binary is optimized to use available CPU instructions in performance-critical operations.\n",
            "To enable the following instructions: AVX2 AVX512F FMA, in other operations, rebuild TensorFlow with the appropriate compiler flags.\n",
            "2023-04-02 01:43:28.300449: W tensorflow/compiler/tf2tensorrt/utils/py_utils.cc:38] TF-TRT Warning: Could not find TensorRT\n",
            "('2-GRAMS: 0.54', '3-GRAMS: 0.42', '4-GRAMS: 0.35')\n"
          ]
        }
      ],
      "source": [
        "!python /content/TW-FR-MT/MT_systems/evalution_scripts/get_bleu.py \\\n",
        "tw-fr-opus-translate \\\n",
        "/content/TW-FR-MT/TW_FR_EN_corpus/data/test/test_fr.txt"
      ]
    },
    {
      "cell_type": "markdown",
      "metadata": {
        "id": "bhVP-G9lnSXK"
      },
      "source": [
        "### AzunreBLEU Score"
      ]
    },
    {
      "cell_type": "code",
      "execution_count": null,
      "metadata": {
        "colab": {
          "base_uri": "https://localhost:8080/"
        },
        "id": "Dr89NYffgxyA",
        "outputId": "73f701dd-42d8-4878-ad9d-6824fa5aed7f"
      },
      "outputs": [
        {
          "name": "stdout",
          "output_type": "stream",
          "text": [
            "2023-04-02 01:49:00.486137: I tensorflow/core/platform/cpu_feature_guard.cc:182] This TensorFlow binary is optimized to use available CPU instructions in performance-critical operations.\n",
            "To enable the following instructions: AVX2 AVX512F FMA, in other operations, rebuild TensorFlow with the appropriate compiler flags.\n",
            "2023-04-02 01:49:01.864525: W tensorflow/compiler/tf2tensorrt/utils/py_utils.cc:38] TF-TRT Warning: Could not find TensorRT\n",
            "BLEU SCORE: 0.75\n"
          ]
        }
      ],
      "source": [
        "!python /content/TW-FR-MT/MT_systems/evalution_scripts/get_bleu.py \\\n",
        "tw-fr-opus-translate \\\n",
        "/content/TW-FR-MT/TW_FR_EN_corpus/data/test/test_fr.txt \\\n",
        "--azunre True"
      ]
    },
    {
      "cell_type": "markdown",
      "metadata": {
        "id": "NcpCH72vnmWg"
      },
      "source": [
        "### SacreBLEU Score"
      ]
    },
    {
      "cell_type": "code",
      "execution_count": null,
      "metadata": {
        "colab": {
          "base_uri": "https://localhost:8080/"
        },
        "id": "Ue3AqnKknoKG",
        "outputId": "f15bf04a-d3f3-4b40-b3b1-643445d81e07"
      },
      "outputs": [
        {
          "name": "stdout",
          "output_type": "stream",
          "text": [
            "2023-04-02 01:48:13.574975: I tensorflow/core/platform/cpu_feature_guard.cc:182] This TensorFlow binary is optimized to use available CPU instructions in performance-critical operations.\n",
            "To enable the following instructions: AVX2 AVX512F FMA, in other operations, rebuild TensorFlow with the appropriate compiler flags.\n",
            "2023-04-02 01:48:14.568924: W tensorflow/compiler/tf2tensorrt/utils/py_utils.cc:38] TF-TRT Warning: Could not find TensorRT\n",
            "SacreBLEU SCORE: 35.93\n"
          ]
        }
      ],
      "source": [
        "!python /content/TW-FR-MT/MT_systems/evalution_scripts/get_sacrebleu.py \\\n",
        "tw-fr-opus-translate \\\n",
        "/content/TW-FR-MT/TW_FR_EN_corpus/data/test/test_fr.txt "
      ]
    },
    {
      "cell_type": "markdown",
      "metadata": {
        "id": "K7KBgNk4hIAS"
      },
      "source": [
        "TER Score"
      ]
    },
    {
      "cell_type": "code",
      "execution_count": null,
      "metadata": {
        "colab": {
          "base_uri": "https://localhost:8080/"
        },
        "id": "FY7_pSz0hGfp",
        "outputId": "ce34a994-4398-4437-84a2-751668015544"
      },
      "outputs": [
        {
          "name": "stdout",
          "output_type": "stream",
          "text": [
            "2023-04-02 01:47:48.756483: I tensorflow/core/platform/cpu_feature_guard.cc:182] This TensorFlow binary is optimized to use available CPU instructions in performance-critical operations.\n",
            "To enable the following instructions: AVX2 AVX512F FMA, in other operations, rebuild TensorFlow with the appropriate compiler flags.\n",
            "2023-04-02 01:47:49.672804: W tensorflow/compiler/tf2tensorrt/utils/py_utils.cc:38] TF-TRT Warning: Could not find TensorRT\n",
            "TER SCORE: 67.52\n"
          ]
        }
      ],
      "source": [
        "!python /content/TW-FR-MT/MT_systems/evalution_scripts/ter.py \\\n",
        "tw-fr-opus-translate \\\n",
        "/content/TW-FR-MT/TW_FR_EN_corpus/data/test/test_fr.txt "
      ]
    },
    {
      "cell_type": "markdown",
      "metadata": {
        "id": "13wPv6RZtIvc"
      },
      "source": [
        "## Pre-trained OPUST-MT model"
      ]
    },
    {
      "cell_type": "code",
      "execution_count": null,
      "metadata": {
        "colab": {
          "base_uri": "https://localhost:8080/"
        },
        "id": "Do-tAKhltHgP",
        "outputId": "d0a8dd10-debe-4001-c4e8-4075fe8b072f"
      },
      "outputs": [
        {
          "name": "stdout",
          "output_type": "stream",
          "text": [
            "2023-04-02 01:49:20.045890: I tensorflow/core/platform/cpu_feature_guard.cc:182] This TensorFlow binary is optimized to use available CPU instructions in performance-critical operations.\n",
            "To enable the following instructions: AVX2 AVX512F FMA, in other operations, rebuild TensorFlow with the appropriate compiler flags.\n",
            "2023-04-02 01:49:20.955804: W tensorflow/compiler/tf2tensorrt/utils/py_utils.cc:38] TF-TRT Warning: Could not find TensorRT\n"
          ]
        }
      ],
      "source": [
        "!python /content/TW-FR-MT/MT_systems/opus/opus_direct_translate.py \\\n",
        "Helsinki-NLP/opus-mt-tw-fr \\\n",
        "/content/TW-FR-MT/TW_FR_EN_corpus/data/test/test_tw.txt \\\n",
        "--output_name tw-fr-opus-translate-pretrained"
      ]
    },
    {
      "cell_type": "code",
      "execution_count": null,
      "metadata": {
        "colab": {
          "base_uri": "https://localhost:8080/"
        },
        "id": "xRkaQKR3tisK",
        "outputId": "d5698c4c-ce28-4300-8c2d-7fe15db4bee0"
      },
      "outputs": [
        {
          "name": "stdout",
          "output_type": "stream",
          "text": [
            "2023-04-02 02:10:13.626383: I tensorflow/core/platform/cpu_feature_guard.cc:182] This TensorFlow binary is optimized to use available CPU instructions in performance-critical operations.\n",
            "To enable the following instructions: AVX2 AVX512F FMA, in other operations, rebuild TensorFlow with the appropriate compiler flags.\n",
            "2023-04-02 02:10:14.533440: W tensorflow/compiler/tf2tensorrt/utils/py_utils.cc:38] TF-TRT Warning: Could not find TensorRT\n",
            "('2-GRAMS: 0.39', '3-GRAMS: 0.29', '4-GRAMS: 0.22')\n"
          ]
        }
      ],
      "source": [
        "!python /content/TW-FR-MT/MT_systems/evalution_scripts/get_bleu.py \\\n",
        "tw-fr-opus-translate-pretrained \\\n",
        "/content/TW-FR-MT/TW_FR_EN_corpus/data/test/un_test_fr.txt"
      ]
    },
    {
      "cell_type": "code",
      "execution_count": null,
      "metadata": {
        "colab": {
          "base_uri": "https://localhost:8080/"
        },
        "id": "oUSBsk9ntixo",
        "outputId": "be472b99-512a-48e0-f7ea-31dc47d286a1"
      },
      "outputs": [
        {
          "name": "stdout",
          "output_type": "stream",
          "text": [
            "2023-04-02 02:08:48.462655: I tensorflow/core/platform/cpu_feature_guard.cc:182] This TensorFlow binary is optimized to use available CPU instructions in performance-critical operations.\n",
            "To enable the following instructions: AVX2 AVX512F FMA, in other operations, rebuild TensorFlow with the appropriate compiler flags.\n",
            "2023-04-02 02:08:49.367521: W tensorflow/compiler/tf2tensorrt/utils/py_utils.cc:38] TF-TRT Warning: Could not find TensorRT\n",
            "BLEU SCORE: 0.62\n"
          ]
        }
      ],
      "source": [
        "!python /content/TW-FR-MT/MT_systems/evalution_scripts/get_bleu.py \\\n",
        "tw-fr-opus-translate-pretrained \\\n",
        "/content/TW-FR-MT/TW_FR_EN_corpus/data/test/un_test_fr.txt \\\n",
        "--azunre True"
      ]
    },
    {
      "cell_type": "code",
      "execution_count": null,
      "metadata": {
        "colab": {
          "base_uri": "https://localhost:8080/"
        },
        "id": "srAI9W7ct4P7",
        "outputId": "99f05769-42f2-46eb-c603-337b643b4b40"
      },
      "outputs": [
        {
          "name": "stdout",
          "output_type": "stream",
          "text": [
            "2023-04-02 02:09:36.231139: I tensorflow/core/platform/cpu_feature_guard.cc:182] This TensorFlow binary is optimized to use available CPU instructions in performance-critical operations.\n",
            "To enable the following instructions: AVX2 AVX512F FMA, in other operations, rebuild TensorFlow with the appropriate compiler flags.\n",
            "2023-04-02 02:09:37.130296: W tensorflow/compiler/tf2tensorrt/utils/py_utils.cc:38] TF-TRT Warning: Could not find TensorRT\n",
            "SacreBLEU SCORE: 20.79\n"
          ]
        }
      ],
      "source": [
        "!python /content/TW-FR-MT/MT_systems/evalution_scripts/get_sacrebleu.py \\\n",
        "tw-fr-opus-translate-pretrained \\\n",
        "/content/TW-FR-MT/TW_FR_EN_corpus/data/test/un_test_fr.txt "
      ]
    },
    {
      "cell_type": "markdown",
      "metadata": {
        "id": "Pf7nnCbjh5se"
      },
      "source": [
        "TER score"
      ]
    },
    {
      "cell_type": "code",
      "execution_count": null,
      "metadata": {
        "colab": {
          "base_uri": "https://localhost:8080/"
        },
        "id": "XeZna0dkh9z4",
        "outputId": "82fdc026-9b99-43ce-c0da-272449a40bfe"
      },
      "outputs": [
        {
          "name": "stdout",
          "output_type": "stream",
          "text": [
            "2023-04-02 02:07:46.432310: I tensorflow/core/platform/cpu_feature_guard.cc:182] This TensorFlow binary is optimized to use available CPU instructions in performance-critical operations.\n",
            "To enable the following instructions: AVX2 AVX512F FMA, in other operations, rebuild TensorFlow with the appropriate compiler flags.\n",
            "2023-04-02 02:07:47.795730: W tensorflow/compiler/tf2tensorrt/utils/py_utils.cc:38] TF-TRT Warning: Could not find TensorRT\n",
            "TER SCORE: 91.43\n"
          ]
        }
      ],
      "source": [
        "!python /content/TW-FR-MT/MT_systems/evalution_scripts/ter.py \\\n",
        "tw-fr-opus-translate-pretrained \\\n",
        "/content/TW-FR-MT/TW_FR_EN_corpus/data/test/un_test_fr.txt"
      ]
    },
    {
      "cell_type": "markdown",
      "metadata": {
        "id": "jA1Ayzk4obit"
      },
      "source": [
        "## Google Translate API\n",
        "\n"
      ]
    },
    {
      "cell_type": "markdown",
      "metadata": {
        "id": "4NFeFgNIxRgd"
      },
      "source": [
        "### Translate with the Google Translate API\n"
      ]
    },
    {
      "cell_type": "code",
      "execution_count": null,
      "metadata": {
        "id": "jx0c5k8mn-EU"
      },
      "outputs": [],
      "source": [
        "! python /content/TW-FR-MT/MT_systems/Google_MT/googleAPIdirect_translate.py \\\n",
        "/content/TW-FR-MT/TW_FR_EN_corpus/data/test/test_tw.txt \\\n",
        "ak\\\n",
        "fr\\\n",
        "--output_name twi-fr-google-translate"
      ]
    },
    {
      "cell_type": "markdown",
      "metadata": {
        "id": "NvllXWvVslf4"
      },
      "source": [
        "\n",
        "### Evaluate the Translation Quality of the Google API Translation\n"
      ]
    },
    {
      "cell_type": "markdown",
      "metadata": {
        "id": "rQPgMVajwxy0"
      },
      "source": [
        "#### BLEU Score"
      ]
    },
    {
      "cell_type": "code",
      "execution_count": null,
      "metadata": {
        "colab": {
          "base_uri": "https://localhost:8080/"
        },
        "id": "SpJH6RSurTvJ",
        "outputId": "2eac60dd-456e-4ca3-d32a-a5294ec7855f"
      },
      "outputs": [
        {
          "name": "stdout",
          "output_type": "stream",
          "text": [
            "2023-04-02 01:18:32.083340: I tensorflow/core/platform/cpu_feature_guard.cc:182] This TensorFlow binary is optimized to use available CPU instructions in performance-critical operations.\n",
            "To enable the following instructions: AVX2 AVX512F FMA, in other operations, rebuild TensorFlow with the appropriate compiler flags.\n",
            "2023-04-02 01:18:33.045854: W tensorflow/compiler/tf2tensorrt/utils/py_utils.cc:38] TF-TRT Warning: Could not find TensorRT\n",
            "Downloading builder script: 100% 9.99k/9.99k [00:00<00:00, 7.04MB/s]\n",
            "('2-GRAMS: 0.60', '3-GRAMS: 0.49', '4-GRAMS: 0.41')\n"
          ]
        }
      ],
      "source": [
        "!python /content/TW-FR-MT/MT_systems/evalution_scripts/get_bleu.py \\\n",
        "twi-fr-google-translate \\\n",
        "/content/TW-FR-MT/TW_FR_EN_corpus/data/test/un_test_fr.txt "
      ]
    },
    {
      "cell_type": "markdown",
      "metadata": {
        "id": "os7aj-_1xgI3"
      },
      "source": [
        "#### AzunreBLEU Score"
      ]
    },
    {
      "cell_type": "code",
      "execution_count": null,
      "metadata": {
        "colab": {
          "base_uri": "https://localhost:8080/"
        },
        "id": "HNjtLIcmq_YL",
        "outputId": "dd6b5e29-68cd-45cc-d453-a60eb6eb4c9e"
      },
      "outputs": [
        {
          "name": "stdout",
          "output_type": "stream",
          "text": [
            "2023-04-02 01:18:43.691607: I tensorflow/core/platform/cpu_feature_guard.cc:182] This TensorFlow binary is optimized to use available CPU instructions in performance-critical operations.\n",
            "To enable the following instructions: AVX2 AVX512F FMA, in other operations, rebuild TensorFlow with the appropriate compiler flags.\n",
            "2023-04-02 01:18:45.341030: W tensorflow/compiler/tf2tensorrt/utils/py_utils.cc:38] TF-TRT Warning: Could not find TensorRT\n",
            "BLEU SCORE: 0.79\n"
          ]
        }
      ],
      "source": [
        "!python /content/TW-FR-MT/MT_systems/evalution_scripts/get_bleu.py \\\n",
        "twi-fr-google-translate \\\n",
        "/content/TW-FR-MT/TW_FR_EN_corpus/data/test/un_test_fr.txt \\\n",
        "--azunre True"
      ]
    },
    {
      "cell_type": "markdown",
      "metadata": {
        "id": "UqQ6x8Coxpgq"
      },
      "source": [
        "#### SacreBLEU Score"
      ]
    },
    {
      "cell_type": "code",
      "execution_count": null,
      "metadata": {
        "colab": {
          "base_uri": "https://localhost:8080/"
        },
        "id": "wEfwu_SPq61l",
        "outputId": "a54944bd-eba9-4369-bfe5-cb1dd87aad55"
      },
      "outputs": [
        {
          "name": "stdout",
          "output_type": "stream",
          "text": [
            "2023-04-02 01:18:53.536807: I tensorflow/core/platform/cpu_feature_guard.cc:182] This TensorFlow binary is optimized to use available CPU instructions in performance-critical operations.\n",
            "To enable the following instructions: AVX2 AVX512F FMA, in other operations, rebuild TensorFlow with the appropriate compiler flags.\n",
            "2023-04-02 01:18:54.448791: W tensorflow/compiler/tf2tensorrt/utils/py_utils.cc:38] TF-TRT Warning: Could not find TensorRT\n",
            "SacreBLEU SCORE: 44.39\n"
          ]
        }
      ],
      "source": [
        "!python /content/TW-FR-MT/MT_systems/evalution_scripts/get_sacrebleu.py \\\n",
        "twi-fr-google-translate \\\n",
        "/content/TW-FR-MT/TW_FR_EN_corpus/data/test/un_test_fr.txt "
      ]
    },
    {
      "cell_type": "markdown",
      "metadata": {
        "id": "TkrnJKUZizyd"
      },
      "source": [
        "TER Score"
      ]
    },
    {
      "cell_type": "code",
      "execution_count": null,
      "metadata": {
        "colab": {
          "base_uri": "https://localhost:8080/"
        },
        "id": "fqLW2AjiirOV",
        "outputId": "f7d26fa2-7126-4273-e025-813898698879"
      },
      "outputs": [
        {
          "name": "stdout",
          "output_type": "stream",
          "text": [
            "2023-04-02 01:23:31.978910: I tensorflow/core/platform/cpu_feature_guard.cc:182] This TensorFlow binary is optimized to use available CPU instructions in performance-critical operations.\n",
            "To enable the following instructions: AVX2 AVX512F FMA, in other operations, rebuild TensorFlow with the appropriate compiler flags.\n",
            "2023-04-02 01:23:33.408068: W tensorflow/compiler/tf2tensorrt/utils/py_utils.cc:38] TF-TRT Warning: Could not find TensorRT\n",
            "TER SCORE: 56.03\n"
          ]
        }
      ],
      "source": [
        "!python /content/TW-FR-MT/MT_systems/evalution_scripts/ter.py \\\n",
        "twi-fr-google-translate \\\n",
        "/content/TW-FR-MT/TW_FR_EN_corpus/data/test/un_test_fr.txt "
      ]
    },
    {
      "cell_type": "markdown",
      "metadata": {
        "id": "RP4BEOMqpV2d"
      },
      "source": [
        "## OPUS Pivot Translation\n",
        "\n",
        "\n",
        "To perform pivot translation, you will need to fine-tune additional models.<br>\n",
        "You can alternatively download fine-tuned models from our project from Google [Drive](https://drive.google.com/drive/folders/13irIvPsqnryP_NJ5y6PneFKrQDJs5Qm6?usp=sharing).\n",
        "\n",
        "\n",
        "$<source>$ -> $<English>$ ->$<Target>$\n",
        "\n",
        "\n",
        "We will demonstrate pivot Twi -> English -> French translation.<br>\n",
        "In this tutorial, we use our fine-tuned models. To use pre-trained OPUS-MT models, pass the name of the OPUS-MT model as shown below.<br>\n",
        "\n",
        "For French -> English -> Twi using Pre-trained OPUS-MT models\n",
        "```\n",
        "!python /content/TW-FR-MT/MT_systems/opus/opus_pivot_translate.py \\\n",
        "Helsinki-NLP/opus-mt-fr-en \\ \n",
        "Helsinki-NLP/opus-mt-en-tw \\\n",
        "/content/TW-FR-MT/TW_FR_EN_corpus/data/test/test_fr.txt \\\n",
        "--to_console True\n",
        "\n",
        "```\n",
        " \n",
        "\n"
      ]
    },
    {
      "cell_type": "code",
      "execution_count": null,
      "metadata": {
        "colab": {
          "base_uri": "https://localhost:8080/"
        },
        "id": "5yXBWEggpQZu",
        "outputId": "87bebcba-290e-4ecd-a6f1-d908ba82c8bd"
      },
      "outputs": [
        {
          "name": "stdout",
          "output_type": "stream",
          "text": [
            "2023-05-01 11:46:16.042649: W tensorflow/compiler/tf2tensorrt/utils/py_utils.cc:38] TF-TRT Warning: Could not find TensorRT\n",
            "Source: Wayɛ krado.\n",
            "Pivot: He is ready.\n",
            "Target: Il est prêt.\n",
            "\n",
            "Source: Ɔnsua ade pii.\n",
            "Pivot: He wouldn't study enough.\n",
            "Target: Il n'étudierait pas assez.\n",
            "\n",
            "Source: Smith buae sɛ wanu ne ho.\n",
            "Pivot: Asamoah answered he was sorry.\n",
            "Target: Asamoah a répondu qu'il était désolé.\n",
            "\n",
            "Source: Fa safoa no ma wo nua.\n",
            "Pivot: Give the key to your brother.\n",
            "Target: Donne la clé à ton frère.\n",
            "\n",
            "Source: Ɛyɛ asɛm a ɛhaw yɛn nyinaa.\n",
            "Pivot: That's all what's worried.\n",
            "Target: C'est tout ce qui est inquiet.\n",
            "\n",
            "Source: Wamma m'asɛmmisa no ho mmuae.\n",
            "Pivot: He didn't answer my question.\n",
            "Target: Il n'a pas répondu ma question.\n",
            "\n",
            "Source: Seesei minni sika.\n",
            "Pivot: I have no money now.\n",
            "Target: Je n'ai plus d'argent maintenant.\n",
            "\n",
            "Source: Ná ɛyɛ awerɛhosɛm.\n",
            "Pivot: It was sad nervous.\n",
            "Target: C'était triste et nerveux.\n",
            "\n",
            "Source: Me nuabarima no wɔ sika pii a obetumi de atɔ kar.\n",
            "Pivot: My brother has more money to buy a car.\n",
            "Target: Mon frère a plus d'argent pour acheter une voiture.\n",
            "\n",
            "Source: Asiane pii wɔ hɔ.\n",
            "Pivot: There are a lot of dangerous.\n",
            "Target: Il y a beaucoup de danger.\n",
            "\n",
            "Source: M'ani agyina wo\n",
            "Pivot: I miss you\n",
            "Target: Tu me manques.\n",
            "\n",
            "Source: Dɛn bio na wopɛ sɛ mekenkan?\n",
            "Pivot: What else do you want to read?\n",
            "Target: Que voulez-vous lire d'autre?\n",
            "\n",
            "Source: Ɔmaa ne sika nyinaa sae.\n",
            "Pivot: She made all her money all.\n",
            "Target: Elle a fait tout son argent.\n",
            "\n",
            "Source: Ná n'ani gye ho sɛ ɔbɛka n'ankasa ho asɛm.\n",
            "Pivot: She had liked to talk about his own.\n",
            "Target: Elle avait aimé parler des siens.\n",
            "\n",
            "Source: Hwɛ nkyerɛase yi ne nea wodii kan yɛe no.\n",
            "Pivot: Look this translate and what the first.\n",
            "Target: Regardez ceci traduire et ce que la première.\n",
            "\n",
            "Source: Ɛbɛyɛ sɛ kwabena dii sika pii na esi no fie no\n",
            "Pivot: Kwabena must had eaten a lot of money and esi esi empty.\n",
            "Target: Kwabena avait dû manger beaucoup d'argent et esi esi vide.\n",
            "\n",
            "Source: So etumi san?\n",
            "Pivot: Is that again?\n",
            "Target: C'est encore ça?\n",
            "\n",
            "Source: Minsusuw sɛ asiane wom.\n",
            "Pivot: I don't think it's dangerous.\n",
            "Target: Je ne pense pas que ce soit dangereux.\n",
            "\n",
            "Source: Mihu sɛ wokae me.\n",
            "Pivot: I see you remember me.\n",
            "Target: Je vois que tu te souviens de moi.\n",
            "\n",
            "Source: Abena ne kwaku dwen kokoam nsɛm ho.\n",
            "Pivot: Abena and kwaku thinking things.\n",
            "Target: Abena et kwaku pensent des choses.\n",
            "\n",
            "Source: Yɛsrɛ sɛ mma mmofra no kwan mma wɔmfa sekan nni agoru.\n",
            "Pivot: Please don't let let the children for play with knife knife.\n",
            "Target: S'il vous plaît ne laissez pas les enfants pour jouer avec couteau.\n",
            "\n",
            "Source: Ebia ɛsɛ sɛ wutie.\n",
            "Pivot: Maybe must listen.\n",
            "Target: Peut-être dois-je écouter.\n",
            "\n",
            "Source: Bere tenten bɛn na ɛsɛ sɛ yɛtwɛn?\n",
            "Pivot: How long have to wait?\n",
            "Target: Combien de temps dois-je attendre?\n",
            "\n",
            "Source: Wɔde kar a wɔyɛ wɔ japan no di dwuma wɔ wiase nyinaa.\n",
            "Pivot: The car is in japan used in the world.\n",
            "Target: La voiture est au japon utilisé dans le monde.\n",
            "\n",
            "Source: Na ɔwɔ hɔ anɔpa.\n",
            "Pivot: He was there by morning.\n",
            "Target: Il était là le matin.\n",
            "\n",
            "Source: Mfomso pii wɔ nhoma yi mu.\n",
            "Pivot: This book a lot of mistakes.\n",
            "Target: Ce livre beaucoup d'erreurs.\n",
            "\n",
            "Source: Mempɛ sɛ wudwen ho bio.\n",
            "Pivot: I don't want you think about it again.\n",
            "Target: Je ne veux pas que tu y penses encore.\n",
            "\n",
            "Source: Dɛn nti na wo mmoa no de wɔn siee kuntu no ase?\n",
            "Pivot: Why did your cats hide under the blanket?\n",
            "Target: Pourquoi vos chats se sont-ils cachés sous la couverture?\n",
            "\n",
            "Source: Seesei mente franse kasa koraa.\n",
            "Pivot: I don't understand at french now.\n",
            "Target: Je ne comprends pas en français maintenant.\n",
            "\n",
            "Source: Menyɛ kɛse.\n",
            "Pivot: I'm not big.\n",
            "Target: Je ne suis pas grand.\n",
            "\n",
            "Source: Ofi anafo fam.\n",
            "Pivot: He's from du sud.\n",
            "Target: Il vient du sud.\n",
            "\n",
            "Source: Ná ɔdi m'akyi pɛɛ.\n",
            "Pivot: He was asleep after me.\n",
            "Target: Il dormait après moi.\n",
            "\n",
            "Source: Mepɛ sɛ mekyerɛ wo biribi.\n",
            "Pivot: I want to show you something.\n",
            "Target: Je veux te montrer quelque chose.\n",
            "\n",
            "Source: Dodow a yesua ade no, dodow no ara na yehu sɛnea yɛn nimdeɛ sua.\n",
            "Pivot: The number of the students, we'll see how short of our education.\n",
            "Target: Le nombre d'étudiants, nous allons voir à quel point notre éducation est courte.\n",
            "\n",
            "Source: So bɔs yi kɔ mpoano?\n",
            "Pivot: Is this bus going to the beach?\n",
            "Target: Est-ce que ce bus va à la plage?\n",
            "\n",
            "Source: Ná mekɔ asɔre kwasida.\n",
            "Pivot: I was going to church on sunday.\n",
            "Target: J'allais à l'église dimanche.\n",
            "\n",
            "Source: Asamoah yɛ adamfo koro pɛ a boatema wɔ.\n",
            "Pivot: Asamoah is the only friend of boatemaa.\n",
            "Target: Asamoah est le seul ami de boatemaa.\n",
            "\n",
            "Source: Na mefiri sɛ, ɛyɛ mfomsoɔ sɛ mɛda asumasɛm no adi akyerɛ kwaku.\n",
            "Pivot: I thought kwaku, that's not going to tell the play.\n",
            "Target: Je pensais que kwaku, ça ne va pas le dire à la pièce.\n",
            "\n",
            "Source: Kurow yi agye din wɔ agodibea fɛfɛ a ɛwɔ hɔ no.\n",
            "Pivot: This city is very famous in the park.\n",
            "Target: Cette ville est très célèbre dans le parc.\n",
            "\n",
            "Source: So wugyina ɔko no akyi anaasɛ woko tia?\n",
            "Pivot: Are you in or against the war?\n",
            "Target: Êtes-vous ou êtes-vous en guerre?\n",
            "\n",
            "Source: Mepɛ sɛ metwɛn kakra ka ho.\n",
            "Pivot: I want to wait a little wait more.\n",
            "Target: Je veux attendre un peu plus.\n",
            "\n",
            "Source: Abarimaa no bɔɔ ahwehwɛ no mu.\n",
            "Pivot: The boy seized in the glass.\n",
            "Target: Le garçon a saisi le verre.\n",
            "\n",
            "Source: Misusuw sɛ eyi ne ne kyinii.\n",
            "Pivot: I think this is his umbrella.\n",
            "Target: Je pense que c'est son parapluie.\n",
            "\n",
            "Source: Yɛanya nkɔso pii.\n",
            "Pivot: We have a good progress.\n",
            "Target: Nous avons de bons progrès.\n",
            "\n",
            "Source: Japanfo dɔɔso sen britain ne france.\n",
            "Pivot: The japanese is more than than john and france.\n",
            "Target: Le japonais est plus que john et la france.\n",
            "\n",
            "Source: Odii awu.\n",
            "Pivot: He was died.\n",
            "Target: Il est mort.\n",
            "\n",
            "Source: Sɛnea asamoah kae no, na ɔpɛ sɛ aba ani gye.\n",
            "Pivot: Asamoah said he wanted aba to be happy.\n",
            "Target: Asamoah a dit qu'il voulait qu'aba soit heureuse.\n",
            "\n",
            "Source: Wɔhyehyɛɛ krataa no.\n",
            "Pivot: The letter was amended.\n",
            "Target: La lettre a été amendée.\n",
            "\n",
            "Source: Ehia sɛ wonya ɔdan wɔ kurow no mu.\n",
            "Pivot: There needs a room in the city.\n",
            "Target: Il a besoin d'une chambre dans la ville.\n",
            "\n",
            "Source: So wufi hokkaido, ɛnte saa?\n",
            "Pivot: Are you from asamoah, don't you?\n",
            "Target: Êtes-vous d'asamoah, n'est-ce pas?\n",
            "\n",
            "Source: Ɛyɛ me nhoma.\n",
            "Pivot: That's my book.\n",
            "Target: C'est mon livre.\n",
            "\n",
            "Source: Ɔyare mmoawa nnɔɔso koraa sen ɔyare mmoawa.\n",
            "Pivot: That sorts are small than waters.\n",
            "Target: Ce genre de choses est petit que les eaux.\n",
            "\n",
            "Source: Bere a ɔnom nsa abiɛsa wiei no, ɔbarima no fii adi.\n",
            "Pivot: After three hours drinking, the man went out.\n",
            "Target: Après trois heures à boire, l'homme est sorti.\n",
            "\n",
            "Source: Ɔfatwafo bi wɔ yɛn mu.\n",
            "Pivot: There's a traital in us.\n",
            "Target: Il y a un traité en nous.\n",
            "\n",
            "Source: Ɛsɛ sɛ ɔba ntɛm ara!\n",
            "Pivot: He must come as soon as possible!\n",
            "Target: Il doit venir dès que possible!\n",
            "\n",
            "Source: Yehia adwinnade bi a yɛde bebue mu.\n",
            "Pivot: We need a reservation.\n",
            "Target: Nous avons besoin d'une réservation.\n",
            "\n",
            "Source: Hwɛ dan kɔkɔɔ no.\n",
            "Pivot: Look at the room.\n",
            "Target: Regardez la pièce.\n",
            "\n",
            "Source: Wo din de sɛn?\n",
            "Pivot: What is your name?\n",
            "Target: Comment vous vous appelez?\n",
            "\n",
            "Source: Nea na mepɛ ara ne sɛ mɛyɛ nea eye sen biara.\n",
            "Pivot: I just wanted to do what's best the best.\n",
            "Target: Je voulais juste faire ce qui était le mieux.\n",
            "\n",
            "Source: Minim ne din.\n",
            "Pivot: I know his name is.\n",
            "Target: Je sais que son nom l'est.\n",
            "\n",
            "Source: Te sɛ nea asamoah anka akwanhyia no ho asɛm ankyerɛ aba no.\n",
            "Pivot: Asamoah didn't come told aba to the accident.\n",
            "Target: Asamoah n'est pas venu dire à aba de l'accident.\n",
            "\n",
            "Source: Ɔhyɛɛ ne papa bɔ sɛ obedidi awia wɔ mmere pa mu.\n",
            "Pivot: She promised her father to wait afternoon in time.\n",
            "Target: Elle a promis à son père d'attendre l'après-midi à temps.\n",
            "\n",
            "Source: Ɔman no yiyedi ne aban no asɛyɛde.\n",
            "Pivot: The rich country of the country is the country.\n",
            "Target: Le pays riche du pays est le pays.\n",
            "\n",
            "Source: Kwabena sɛe mmɔfra no anwia ahenfo dan no\n",
            "Pivot: Kwabena is defeated the baby with the house.\n",
            "Target: Kwabena est vaincu le bébé avec la maison.\n",
            "\n",
            "Source: Nea na kwaku hia ankasa ne sɛ abena ani begye.\n",
            "Pivot: Kwaku really needed to be happy.\n",
            "Target: Kwaku avait vraiment besoin d'être heureux.\n",
            "\n",
            "Source: M'ani agye sɛ asamoah wɔ fie.\n",
            "Pivot: I'm glad asamoah is home.\n",
            "Target: Je suis content qu'asamoah soit à la maison.\n",
            "\n",
            "Source: M'awofo pɛ sɛ misua aduruyɛ ho ade.\n",
            "Pivot: My parents wants to study hospital.\n",
            "Target: Mes parents veulent étudier l'hôpital.\n",
            "\n",
            "Source: Mesrɛ wo, metumi aka kar?\n",
            "Pivot: Could i please a car?\n",
            "Target: Puis-je faire plaisir à une voiture?\n",
            "\n",
            "Source: Misusuw sɛ ne ho nni asɛm.\n",
            "Pivot: I think he is innocent.\n",
            "Target: Je pense qu'il est innocent.\n",
            "\n",
            "Source: Nsuyiri no sɛee nnɔbae no.\n",
            "Pivot: The river turned off the flowers.\n",
            "Target: La rivière a éteint les fleurs.\n",
            "\n",
            "Source: Ɔhene no tow tow akɛse guu nkurɔfo no so.\n",
            "Pivot: The prince kissed it down on the bath.\n",
            "Target: Le prince l'a embrassé sur le bain.\n",
            "\n",
            "Source: Obiara nni wiase a ɔpɛ akodi.\n",
            "Pivot: No one to have any worried with wars.\n",
            "Target: Personne ne s'inquiète pour les guerres.\n",
            "\n",
            "Source: Saa ɔkraman no kaa ɔbarima a ɔde no kɔe no.\n",
            "Pivot: That dog came the man with him.\n",
            "Target: Ce chien est venu l'homme avec lui.\n",
            "\n",
            "Source: Ɔkae sɛ onnye adanmude no.\n",
            "Pivot: She said he didn't accept the market.\n",
            "Target: Elle a dit qu'il n'avait pas accepté le marché.\n",
            "\n",
            "Source: Nnwom bɛn na w'ani gye ho paa?\n",
            "Pivot: What's your favorite musical?\n",
            "Target: Quelle est votre musique préférée?\n",
            "\n",
            "Source: Wɔ 1964 mu no, ɔhene adi nyaa nobel asomdwoe akyɛde.\n",
            "Pivot: In 1964, she has been a gone advice.\n",
            "Target: En 1964, elle a été un conseil disparu.\n",
            "\n",
            "Source: Ɛyɛ anigye pii sɛ wo ne wo bɛbɔ.\n",
            "Pivot: It's a lot of interesting with you.\n",
            "Target: C'est beaucoup d'intéressant avec vous.\n",
            "\n",
            "Source: Kwabena yere yɛ ɔkyerɛkyerɛfo.\n",
            "Pivot: Kwabena's wife a teacher.\n",
            "Target: La femme de kwabena est enseignante.\n",
            "\n",
            "Source: Esiane sɛ na wɔreyɛ asɛe nti, mfiridwuma ho animdefo no bɔ wuraa twene no so.\n",
            "Pivot: Asamoah is closed over the bridge workers.\n",
            "Target: Asamoah est fermé par-dessus les ouvriers du pont.\n",
            "\n",
            "Source: Asɔre bi atwa kwan ho ahyia.\n",
            "Pivot: There is a friend of the street.\n",
            "Target: Il y a un ami de la rue.\n",
            "\n",
            "Source: Awofo kyerɛkyerɛ wɔn mma sɛ ɛyɛ mfomso sɛ wobedi atoro.\n",
            "Pivot: The children of their to know that it's being a lie.\n",
            "Target: Les enfants de ceux-ci savent que c'est un mensonge.\n",
            "\n",
            "Source: Mempɛ sɛ mihyia no wɔ sum mu.\n",
            "Pivot: I don't want to meet him in the dark.\n",
            "Target: Je ne veux pas le rencontrer dans l'obscurité.\n",
            "\n",
            "Source: Wɔwɔ nsã.\n",
            "Pivot: They have a drink.\n",
            "Target: Ils boivent.\n",
            "\n",
            "Source: Yenni aban no mu ahotoso.\n",
            "Pivot: We don't trust the govert.\n",
            "Target: Nous ne faisons pas confiance au govert.\n",
            "\n",
            "Source: Mibisaa no baabi a metumi de me kar no asi.\n",
            "Pivot: I asked her where i could put my car.\n",
            "Target: Je lui ai demandé où je pouvais mettre ma voiture.\n",
            "\n",
            "Source: Me ho yɛ\n",
            "Pivot: I'm good\n",
            "Target: Je vais bien.\n",
            "\n",
            "Source: Mede nhoma yi bɛma wo.\n",
            "Pivot: I'll lend you this book.\n",
            "Target: Je te prêterai ce livre.\n",
            "\n",
            "Source: Mesrɛ wo, kyerɛ me franse kasa.\n",
            "Pivot: Please tell me french.\n",
            "Target: S'il vous plaît, dites-moi le français.\n",
            "\n",
            "Source: Mɛkyerɛ wo ahintasɛm bi.\n",
            "Pivot: I'm going to show you a secret.\n",
            "Target: Je vais vous montrer un secret.\n",
            "\n",
            "Source: Obiara a ɔwɔ pon no ano no, mesrɛ wo, ka kyerɛ no sɛ ntwɛn.\n",
            "Pivot: Please all everyone, please tell him to wait.\n",
            "Target: S'il vous plaît à tout le monde, s'il vous plaît dites-lui d'attendre.\n",
            "\n",
            "Source: Kwabena ankasa na ɔyɛɛ saa.\n",
            "Pivot: Kwabena didn't be once.\n",
            "Target: Kwabena ne l'était pas une fois.\n",
            "\n",
            "Source: Wɔayɛ wɔn adwene sɛ wɔrensan mma.\n",
            "Pivot: They've decided to return.\n",
            "Target: Ils ont décidé de revenir.\n",
            "\n",
            "Source: Merennyaw wo nkutoo da.\n",
            "Pivot: I'll never leave you alone.\n",
            "Target: Je ne te laisserai jamais seul.\n",
            "\n",
            "Source: Saa pliers yi boa me paa\n",
            "Pivot: The tops is very help me.\n",
            "Target: Les hauts sont très utiles.\n",
            "\n",
            "Source: Dɛn na wɔayɛ nnɛ?\n",
            "Pivot: What's they doing today?\n",
            "Target: Qu'est-ce qu'ils font aujourd'hui?\n",
            "\n",
            "Source: Wɔnantew.\n",
            "Pivot: Walking.\n",
            "Target: À pied.\n",
            "\n",
            "Source: Ná ɛyɛ den kakra ma no sɛ obehu abena fie.\n",
            "Pivot: She had a little more difficult to see abena's house.\n",
            "Target: Elle avait un peu plus de mal à voir la maison d'abena.\n",
            "\n",
            "Source: Ɛyɛ, wo deɛ mame 6 cedis\n",
            "Pivot: That's whose mame six cedis.\n",
            "Target: C'est à lui que appartient la mème six cedis.\n",
            "\n",
            "Source: Mekɔɔ gua so.\n",
            "Pivot: I went to the market.\n",
            "Target: Je suis allé au marché.\n",
            "\n",
            "Source: Bere tenten bɛn na ebegye ansa na wɔde bɔs akɔ hɔ?\n",
            "Pivot: How long will it take off there by bus?\n",
            "Target: Combien de temps décollera-t-il là-bas en bus?\n",
            "\n",
            "Source: Bere a ɔtee asɛmmɔne no, osui.\n",
            "Pivot: He got lost when he he saw the news.\n",
            "Target: Ils se sont perdus quand ils ont vu les infos.\n",
            "\n",
            "Source: Mewɔ efuo\n",
            "Pivot: I have a canadian.\n",
            "Target: J'ai un canadien.\n",
            "\n",
            "Source: Ná me ne ɔbarima a m'ani gye paa wɔ asase so.\n",
            "Pivot: I was my favorite man in the world.\n",
            "Target: J'étais mon homme préféré dans le monde.\n",
            "\n",
            "Source: Ɔbarima no de tuo no kɔtoo ne moma so, na ɔtoo tuo no\n",
            "Pivot: The man took the gun on his sunning and got the run.\n",
            "Target: L'homme a pris l'arme lors de son coucher de soleil et s'est enfui.\n",
            "\n",
            "Source: So ɛsɛ sɛ obiara hu eyi?\n",
            "Pivot: Does anyone should see this?\n",
            "Target: Est-ce que quelqu'un devrait voir cela?\n",
            "\n",
            "Source: Bere a asamoah retete ne kraman no, na ɔrekyerɛ no ade.\n",
            "Pivot: Asamoah is teaching his dog.\n",
            "Target: Asamoah enseigne son chien.\n",
            "\n",
            "Source: Me ti yɛ me yaw.\n",
            "Pivot: I'm sicked of my head.\n",
            "Target: Je suis malade de la tête.\n",
            "\n",
            "Source: Me papa boaa me wɔ sukuu dwumadi a na meyɛ wɔ fie no mu.\n",
            "Pivot: My father helped me with at homework.\n",
            "Target: Mon père m'a aidé à faire ses devoirs.\n",
            "\n",
            "Source: Kwaku mpɛ sɛ, ɔde ne ho bɛfɔrefɔre mu.\n",
            "Pivot: Kwaku doesn't want to mind.\n",
            "Target: Kwaku ne veut pas s'en soucier.\n",
            "\n",
            "Source: Abena yɛ ɔbea a ne ho yɛ fɛ.\n",
            "Pivot: Abena is a beautiful wife.\n",
            "Target: Abena est une belle épouse.\n",
            "\n",
            "Source: Kwaku pɛ sɛ ɔne abena kɔ gua so.\n",
            "Pivot: Kwaku wants to go to the market with abena.\n",
            "Target: Kwaku veut aller au marché avec abena.\n",
            "\n",
            "Source: Wannyae akyerɛw da.\n",
            "Pivot: He never got writing.\n",
            "Target: Il n'a jamais écrit.\n",
            "\n",
            "Source: Ɔwɔ kɔlege.\n",
            "Pivot: She has a university college.\n",
            "Target: Elle a un collège universitaire.\n",
            "\n",
            "Source: Bere bɛn na abue?\n",
            "Pivot: When did it?\n",
            "Target: Quand a-t-il fait cela?\n",
            "\n",
            "Source: Sɛ yehu sɛnea yɛte ankasa a, abrabɔ fi ase.\n",
            "Pivot: Asamoah is really learn what is really.\n",
            "Target: Asamoah apprend vraiment ce qui est vraiment.\n",
            "\n",
            "Source: So wutu mmirika da biara?\n",
            "Pivot: Are you running every day?\n",
            "Target: Est-ce que tu cours tous les jours?\n",
            "\n",
            "Source: Fa bere kakra ma me.\n",
            "Pivot: Get a little more time for me.\n",
            "Target: Donnez-moi un peu plus de temps.\n",
            "\n",
            "Source: Mihuu no nea edi kan.\n",
            "Pivot: I saw her first.\n",
            "Target: Je l'ai vue en premier.\n",
            "\n",
            "Source: Mesrɛ wo, gyae me nkutoo.\n",
            "Pivot: Please stop me alone.\n",
            "Target: S'il te plaît, arrête moi seul.\n",
            "\n",
            "Source: Kwabena anya nea ɛdɔɔso.\n",
            "Pivot: Kwabena has many much.\n",
            "Target: Kwabena en a beaucoup.\n",
            "\n",
            "Source: Bere a asamoah trɛw sare bi mu wɔ paanoo bi so no.\n",
            "Pivot: Asamoah is getting in a gras the grass on a breath.\n",
            "Target: Asamoah prend une bouffée d'herbe dans un gras.\n",
            "\n",
            "Source: Ma wɔnto dwom.\n",
            "Pivot: Let's not sing.\n",
            "Target: Ne chantons pas.\n",
            "\n",
            "Source: Eyi ne hokwan a etwa to a wubetumi anya sɛ wubegye bere ne asamoah abɔ.\n",
            "Pivot: This is the last time you'd like to have time with asamoah.\n",
            "Target: C'est la dernière fois que vous aimeriez avoir du temps avec asamoah.\n",
            "\n",
            "Source: Mewɔ ntade pii a minnim atade a ɛsɛ sɛ mehyɛ ɔkyena.\n",
            "Pivot: I have a lot of clothes that i don't know what tomorrow.\n",
            "Target: J'ai beaucoup de vêtements que je ne sais pas quoi demain.\n",
            "\n",
            "Source: Eyi da wo ne me ntam.\n",
            "Pivot: This is between your and me.\n",
            "Target: C'est entre toi et moi.\n",
            "\n",
            "Source: Wɔ ɔsram yi mu no, ɔbɛwo ba.\n",
            "Pivot: She is going to have a baby this month.\n",
            "Target: Elle va avoir un bébé ce mois-ci.\n",
            "\n",
            "Source: Sɛ yewie sukuu a, yɛbɔ bɔɔl.\n",
            "Pivot: We're playing soccer after when homework.\n",
            "Target: On joue au football après avoir fait ses devoirs.\n",
            "\n",
            "Source: Ɛyɛ adwempa.\n",
            "Pivot: It's a good idea.\n",
            "Target: C'est une bonne idée.\n",
            "\n",
            "Source: Misusuw sɛ bere aso sɛ mepa no kyɛw.\n",
            "Pivot: I think it's time for me to apologize him.\n",
            "Target: Je pense qu'il est temps pour moi de l'excuser.\n",
            "\n",
            "Source: Menyɛ obi a ommu ade.\n",
            "Pivot: I'm not a normal.\n",
            "Target: Je ne suis pas normal.\n",
            "\n",
            "Source: Ná misusuw sɛ sɛ asamoah hwɛ esi a, n'ani begye papa.\n",
            "Pivot: I thought asamoah was watching esi going to esi.\n",
            "Target: Je pensais qu'asamoah regardait esi aller à esi.\n",
            "\n",
            "Source: Misusuw sɛ mayɛ anihaw.\n",
            "Pivot: I think i'm a borrow.\n",
            "Target: Je pense que je suis un emprunt.\n",
            "\n",
            "Source: Saa adidibea yi gye sika nkutoo.\n",
            "Pivot: This restaurant really alone money.\n",
            "Target: Ce restaurant est vraiment seul en argent.\n",
            "\n",
            "Source: Kɔmputa ho hia sen biribiara nnɛ.\n",
            "Pivot: A computer is an absolute now.\n",
            "Target: Un ordinateur est un absolu maintenant.\n",
            "\n",
            "Source: Me hia kwaku\n",
            "Pivot: I need kwaku.\n",
            "Target: J'ai besoin de kwaku.\n",
            "\n",
            "Source: Mewɔ sukuu dwumadi a meyɛ wɔ fie no bi.\n",
            "Pivot: I have at homework.\n",
            "Target: J'ai une devoir de la maison.\n",
            "\n",
            "Source: Asamoah wɔ biribi wɔ ne nifa so.\n",
            "Pivot: Asamoah has something in her right.\n",
            "Target: Asamoah a raison.\n",
            "\n",
            "Source: Nnansa yi, nnipa pii pɛ ɔman asetra sen nkuropɔn.\n",
            "Pivot: A lot of people like country than citys.\n",
            "Target: Beaucoup de gens aiment le pays que les villes.\n",
            "\n",
            "Source: Nua bɔta ne garlic no wɔ pan ketewa bi mu.\n",
            "Pivot: The brother brother and well are small in a small.\n",
            "Target: Le frère et le puits sont petits en petit.\n",
            "\n",
            "Source: Esiane sɛ na asamoah nnim sɛnea kɔmputa foforo no bo bɛyɛ den afa nti, na onim.\n",
            "Pivot: Asamoah knew what the new computer would over the new computer.\n",
            "Target: Asamoah savait ce que le nouvel ordinateur allait faire sur le nouvel ordinateur.\n",
            "\n",
            "Source: Ka wo ho asɛm kakra kyerɛ me.\n",
            "Pivot: Tell me a little more about you.\n",
            "Target: Parlez-moi un peu plus de vous.\n",
            "\n",
            "Source: Yenni bere.\n",
            "Pivot: We have no time.\n",
            "Target: Nous n'avons pas le temps.\n",
            "\n",
            "Source: Ɛsɛ sɛ wusiesie wo dan no mu.\n",
            "Pivot: You should clean up your room.\n",
            "Target: Vous devriez ranger votre chambre.\n",
            "\n",
            "Source: Menya nsuo\n",
            "Pivot: I'll have some water\n",
            "Target: Je vais prendre de l'eau.\n",
            "\n",
            "Source: Wɔde nsa na ɛyɛɛ ho adwuma.\n",
            "Pivot: That was used to hand.\n",
            "Target: C'était utilisé à la main.\n",
            "\n",
            "Source: Asamoah agye n’ahome\n",
            "Pivot: Asamoah has a rest.\n",
            "Target: Asamoah se repose.\n",
            "\n",
            "Source: Nnansa yi, mintumi nka franse kasa.\n",
            "Pivot: I can't speak french these days.\n",
            "Target: Je ne parle pas français ces jours-ci.\n",
            "\n",
            "Source: Bere a meyɛ abofra no, na metaa ne me papa kɔ mpataayi.\n",
            "Pivot: When i was young, i often went with my father.\n",
            "Target: Quand j'étais jeune, j'allais souvent avec mon père.\n",
            "\n",
            "Source: Na asamoah ani nnye nnwom a na abena to wɔ bar no.\n",
            "Pivot: Asamoah didn't like the music was inmoah.\n",
            "Target: Asamoah n'aimait pas que la musique soit inmoah.\n",
            "\n",
            "Source: Ɔbarima no gyee ne bag.\n",
            "Pivot: The man bought his bag.\n",
            "Target: L'homme a acheté son sac.\n",
            "\n",
            "Source: Asamoah nyɛ me papa.\n",
            "Pivot: Asamoah isn't my father.\n",
            "Target: Asamoah n'est pas mon père.\n",
            "\n",
            "Source: Mewɔ m'akwantu tumi krataa.\n",
            "Pivot: I have a letter of my visa.\n",
            "Target: J'ai une lettre de mon visa.\n",
            "\n",
            "Source: Sɛ wannye adwuma no a, obi foforo begye atom.\n",
            "Pivot: If he didn't accept asamoah's listening.\n",
            "Target: S'il n'a pas accepté qu'asamoah écoute.\n",
            "\n",
            "Source: So woresusuw ho anibere so sɛ wobɛyɛ adwuma sɛ ofirikafo a ɔka kar?\n",
            "Pivot: Are you seriously thinking about asamoah's a car driver?\n",
            "Target: Pensez-vous sérieusement qu'asamoah est chauffeur de voiture?\n",
            "\n",
            "Source: Sɛ woyi nkraman no nyinaa fi mu a, wɔn dodow so tew koraa.\n",
            "Pivot: The dogs are all the leave, they were are completely.\n",
            "Target: Les chiens sont toutes les feuilles, ils le sont complètement.\n",
            "\n",
            "Source: Wopɛ sɛ wuhu nea enti a mewɔ ha, ɛnte saa?\n",
            "Pivot: You want to know why i'm here, don't you?\n",
            "Target: Tu veux savoir pourquoi je suis ici, n'est-ce pas?\n",
            "\n",
            "Source: So wopɛ sɛ wotra brazil bere tenten bɛn?\n",
            "Pivot: How long do you want to sit down before?\n",
            "Target: Combien de temps voulez-vous vous asseoir auparavant?\n",
            "\n",
            "Source: Mema wo akye\n",
            "Pivot: Good morning to you\n",
            "Target: Bonjour à vous.\n",
            "\n",
            "Source: 2539 yɛ dodow a ɛsen biara.\n",
            "Pivot: Appiah is the most man.\n",
            "Target: Appiah est le plus grand homme.\n",
            "\n",
            "Source: Obiara nni fie.\n",
            "Pivot: No one's home.\n",
            "Target: Personne n'est à la maison.\n",
            "\n",
            "Source: Ɛsɛ sɛ yɛde yɛn nkwa to asiane mu.\n",
            "Pivot: We must dangerous our life.\n",
            "Target: Nous devons mettre notre vie en danger.\n",
            "\n",
            "Source: Saa nhoma ketewa yi yɛ me dea.\n",
            "Pivot: This small is mine.\n",
            "Target: Cette petite est la mienne.\n",
            "\n",
            "Source: Dɛn na worekyerɛw yi?\n",
            "Pivot: What are you coming this?\n",
            "Target: Qu'est-ce que tu veux dire?\n",
            "\n",
            "Source: So wopɛ asaw?\n",
            "Pivot: Do you like dance?\n",
            "Target: Aimes-tu danser?\n",
            "\n",
            "Source: Sɛ ɔba a, anka wubetumi asiesie wo ho yiye.\n",
            "Pivot: You could have ready prepare when he would be ready.\n",
            "Target: Tu aurais pu te préparer quand il serait prêt.\n",
            "\n",
            "Source: So wunim nea enti a asamoah yerae?\n",
            "Pivot: Do you know why asamoah lost?\n",
            "Target: Savez-vous pourquoi asamoah a perdu?\n",
            "\n",
            "Source: Yɛn ani asɔ.\n",
            "Pivot: We're available.\n",
            "Target: Nous sommes disponibles.\n",
            "\n",
            "Source: Ɛsɛ sɛ ogyae.\n",
            "Pivot: I have to quit.\n",
            "Target: Je dois arrêter.\n",
            "\n",
            "Source: Atamfo no too atopae guu adwinnan no so.\n",
            "Pivot: The enginy caught on the expensive.\n",
            "Target: L'ingénieuse a attrapé le cher.\n",
            "\n",
            "Source: Ɛte sɛ nea ɔnyɛ amerikani.\n",
            "Pivot: He seems to dozer american.\n",
            "Target: Il a l'air d'aller trop vite.\n",
            "\n",
            "Source: Ná wimhyɛn a wɔfrɛ no kwabena no da asiane mu.\n",
            "Pivot: Kwabena was looking in danger.\n",
            "Target: Kwabena regardait en danger.\n",
            "\n",
            "Source: Sɛnea na asamoah pɛ sɛ ɔyɛ no awia yi no, saa ara na mesrɛɛ no sɛ ɛnsɛ sɛ ɔyɛ.\n",
            "Pivot: Asamoah wanted to do it afternoon this afternoon.\n",
            "Target: Asamoah voulait le faire cet après-midi.\n",
            "\n",
            "Source: Sɛ mekae no yiye a, saa dwom no na kwabena toe wɔ abena ayeforohyia ase no.\n",
            "Pivot: If i remember it, this kwabena is happened at abena's wedding.\n",
            "Target: Si je m'en souviens, ce kwabena est arrivé au mariage d'abena.\n",
            "\n",
            "Source: Bepɔw foforo biara nni japan a ɛkorɔn sen bepɔw fuji.\n",
            "Pivot: There is no other mountain is in japanese here.\n",
            "Target: Il n'y a pas d'autre montagne ici en japonais.\n",
            "\n",
            "Source: Di atosode foforo pii.\n",
            "Pivot: Have a lot of new vegetables.\n",
            "Target: Avez beaucoup de nouveaux légumes.\n",
            "\n",
            "Source: Aka kakraa bi na matumi asiesie me ho.\n",
            "Pivot: I'm going to get up.\n",
            "Target: Je vais me lever.\n",
            "\n",
            "Source: Mewɔ tekiti a metumi de atu kwan asan akɔ osaka.\n",
            "Pivot: I have a ticket a ticket i can go to asamoah.\n",
            "Target: J'ai un billet qu'il est possible d'aller à asamoah.\n",
            "\n",
            "Source: Mma ɔnhwɛ sini yi.\n",
            "Pivot: Don't look at this movie.\n",
            "Target: Ne regarde pas ce film.\n",
            "\n",
            "Source: M'ani gye nsoromma ho nimdeɛ ho.\n",
            "Pivot: I like the stars.\n",
            "Target: J'aime les étoiles.\n",
            "\n",
            "Source: Mewɔ sukuu dwumadi a meyɛ wɔ fie no bi.\n",
            "Pivot: I have at homework.\n",
            "Target: J'ai une devoir de la maison.\n",
            "\n",
            "Source: Mehwɛ kwan sɛ mehu wo nnansa yi ara.\n",
            "Pivot: I'm looking forward to see you soon.\n",
            "Target: J'ai hâte de vous voir bientôt.\n",
            "\n",
            "Source: So nkongua a hwee nnim da so ara wɔ hɔ?\n",
            "Pivot: Is there are still totally still there?\n",
            "Target: Y a-t-il encore totalement encore là-bas?\n",
            "\n",
            "Source: Sɛ wompɛ a, ɛho nhia sɛ woka ho asɛm.\n",
            "Pivot: You don't have to talk about if you don't want to talk.\n",
            "Target: Tu n'es pas obligé de parler si tu ne veux pas parler.\n",
            "\n",
            "Source: Yɛde wo aweredi no bɛma wo.\n",
            "Pivot: We will sell your late.\n",
            "Target: Nous allons vendre votre retard.\n",
            "\n",
            "Source: M'ani rennye ho sɛ mɛtra wo mpaboa mu.\n",
            "Pivot: I'd like to stay in your shoes.\n",
            "Target: J'aimerais rester à tes chaussures.\n",
            "\n",
            "Source: Appiah tumi to nnwom wɔ frans kasa no mɔ.\n",
            "Pivot: Appiah can sing in french.\n",
            "Target: Appiah peut chanter en français.\n",
            "\n",
            "Source: Ɔwɔ franse kasa mu ahyɛde pa.\n",
            "Pivot: He has a good language french.\n",
            "Target: Il a une bonne langue le français.\n",
            "\n",
            "Source: Wubetumi aka kar?\n",
            "Pivot: Can you drive a car?\n",
            "Target: Pouvez-vous conduire une voiture?\n",
            "\n",
            "Source: Ne nsɛm no maa nusu guu no.\n",
            "Pivot: His words made the tears with tears her tears.\n",
            "Target: Ses mots ont fait les larmes de larmes ses larmes.\n",
            "\n",
            "Source: Yɛn adesuakuw no mufo dodow no ara yɛ pɛ.\n",
            "Pivot: Most of our class is perfect.\n",
            "Target: La plupart de notre classe est parfaite.\n",
            "\n",
            "Source: Obiara ntumi mmoa yɛn.\n",
            "Pivot: Nobody can help us.\n",
            "Target: Personne ne peut nous aider.\n",
            "\n",
            "Source: Ɛwom sɛ na m'adamfo no nni nam de, nanso manka ankyerɛ no sɛ na nkwan no bi wɔ mu.\n",
            "Pivot: Even though my friend drinking, i didn't tell him with the glass.\n",
            "Target: Même si mon ami buvait, je ne lui ai pas dit avec le verre.\n",
            "\n",
            "Source: Ɛrenkyɛ, biribiara bɛyɛ nea ɛteɛ.\n",
            "Pivot: Anything will do will do wrong wrong.\n",
            "Target: Tout ce qui fera sera mal.\n",
            "\n",
            "Source: Asamoah mpɛ sɛ odi hia.\n",
            "Pivot: Asamoah doesn't want to eat.\n",
            "Target: Asamoah ne veut pas manger.\n",
            "\n",
            "Source: Osu kɛse bi tɔe adapɛn abien maa nsu yiri faa hɔ.\n",
            "Pivot: A rain two water two week and got the water caught.\n",
            "Target: Une pluie deux eau deux semaines et de l'eau a été pêchée.\n",
            "\n",
            "Source: Ná ɔno ankasa ne ɔbarima a yɛrehwehwɛ no no.\n",
            "Pivot: He was the man who was the man wanted.\n",
            "Target: C'était l'homme qui le voulait.\n",
            "\n",
            "Source: Sesie ara na mettee asɛm no.\n",
            "Pivot: I'm afraid from sleep.\n",
            "Target: J'ai peur d'aller dormir.\n",
            "\n",
            "Source: Ná aduan no yɛ dɛ yiye.\n",
            "Pivot: The food was very good.\n",
            "Target: La nourriture était très bonne.\n",
            "\n",
            "Source: Ná misusuw sɛ ɛsɛ sɛ wokenkan saa nkrataa yi.\n",
            "Pivot: I thought you should read that letters.\n",
            "Target: Je pensais que tu devrais lire ces lettres.\n",
            "\n",
            "Source: Wim tebea bɔne no amma mankɔ mpataayi.\n",
            "Pivot: The terrible climate disturbation i drinking go fishing.\n",
            "Target: La terrible dérangement climatique que je bois va à la pêche.\n",
            "\n",
            "Source: Ná ogyina ɔdan no mfinimfini.\n",
            "Pivot: He stood the building at the building.\n",
            "Target: Il tenait le bâtiment au bâtiment.\n",
            "\n",
            "Source: Misusuw ne ho bere nyinaa.\n",
            "Pivot: I'm thought about him.\n",
            "Target: Je pense à lui.\n",
            "\n",
            "Source: Na adamfo pa bɛboa me.\n",
            "Pivot: Some good friend with help me.\n",
            "Target: Un bon ami m'aidera.\n",
            "\n",
            "Source: Mintumi nkae wɔn din nyinaa.\n",
            "Pivot: I can't remember all their name.\n",
            "Target: Je ne me souviens plus de tous leurs noms.\n",
            "\n",
            "Source: Yɛyɛ mmofra.\n",
            "Pivot: We're young.\n",
            "Target: Nous sommes jeunes.\n",
            "\n",
            "Source: Mesrɛ wo boa me.\n",
            "Pivot: Please help me.\n",
            "Target: S'il vous plaît aidez-moi.\n",
            "\n",
            "Source: Mitumi ka kar.\n",
            "Pivot: I can drive.\n",
            "Target: Je peux conduire.\n",
            "\n",
            "Source: Nkongua foforo no beduu nnɛ.\n",
            "Pivot: The new chairs arrived yesterday.\n",
            "Target: Les nouvelles chaises sont arrivées hier.\n",
            "\n",
            "Source: Mesrɛ wo gyae me.\n",
            "Pivot: Please stop me.\n",
            "Target: S'il te plaît, arrête moi.\n",
            "\n",
            "Source: Ɛyɛ den ma kwabena sɛ ɔbɛpaw nea ɔbɛhyɛ akɔ apontow no ase.\n",
            "Pivot: It has easy to decide what kwabena will going to the party.\n",
            "Target: Il est facile de décider ce que kwabena ira à la fête.\n",
            "\n",
            "Source: Yeduu boston dwoodwoo.\n",
            "Pivot: We've got enough boston.\n",
            "Target: Nous avons assez de boston.\n",
            "\n",
            "Source: Kwaku tee nka sɛ ɔresu.\n",
            "Pivot: Kwaku felt he crying.\n",
            "Target: Kwaku avait l'impression de pleurer.\n",
            "\n",
            "Source: Mesrɛ wo, ma memfa wo nuabea wɔ keteke gyinabea ha.\n",
            "Pivot: Please let me take your sister at the station.\n",
            "Target: Laissez-moi conduire votre soeur à la gare s'il vous plaît.\n",
            "\n",
            "Source: Ebia n'ani rennye.\n",
            "Pivot: Maybe happy happy.\n",
            "Target: Peut-être heureux.\n",
            "\n",
            "Source: Misusuw sɛ eye.\n",
            "Pivot: I think it's good.\n",
            "Target: Je pense que c'est bon.\n",
            "\n",
            "Source: Yɛn fie ne wo de.\n",
            "Pivot: Our house is you.\n",
            "Target: Notre maison c'est vous.\n",
            "\n",
            "Source: Ɛno nkutoo ne ade a asamoah betumi ayɛ.\n",
            "Pivot: It is the only what asamoah can do.\n",
            "Target: C'est tout ce qu'asamoah peut faire.\n",
            "\n",
            "Source: Dɛn na ɛkɔ so anadwo?\n",
            "Pivot: What's happening for the night?\n",
            "Target: Que se passe-t-il la nuit?\n",
            "\n",
            "Source: Ɔte sɛ n'agya pɛpɛɛpɛ.\n",
            "Pivot: He looks like his father.\n",
            "Target: Il ressemble à son père.\n",
            "\n",
            "Source: Ka wɔ french kasa mu.\n",
            "Pivot: You're saying in french.\n",
            "Target: Vous dites en français.\n",
            "\n",
            "Source: Obiara ho yɛ\n",
            "Pivot: Everybody is well\n",
            "Target: Tout le monde va bien.\n",
            "\n",
            "Source: Me nuabarima betumi atu mmirika ntɛmntɛm.\n",
            "Pivot: My brother can run fast.\n",
            "Target: Mon frère peut courir vite.\n",
            "\n",
            "Source: Sɛ wudi nkwan a, nyɛ dede.\n",
            "Pivot: If you were sweat, don't make noise.\n",
            "Target: Si tu étais en transpiration, ne fais pas de bruit.\n",
            "\n",
            "Source: Pokuaa reware kyena\n",
            "Pivot: I was getting taken abena\n",
            "Target: Je me faisais prendre abena\n",
            "\n",
            "Source: Ɛyɛ fɛ.\n",
            "Pivot: It looks pretty.\n",
            "Target: C'est joli.\n",
            "\n",
            "Source: Meda so ara di mfomso.\n",
            "Pivot: I still make mistakes.\n",
            "Target: Je fais toujours des erreurs.\n",
            "\n",
            "Source: Nokwarem no, otumi ka engiresi kasa.\n",
            "Pivot: In fact, he can speak english.\n",
            "Target: En fait, il parle anglais.\n",
            "\n",
            "Source: Saa nhama yi ano yɛ den, ɛnte saa?\n",
            "Pivot: These tooks is unbearable, doesn't he?\n",
            "Target: Ces pris sont insupportables, n'est-ce pas?\n",
            "\n",
            "Source: Mesrɛ wo, wubetumi asan aka ho asɛm bio?\n",
            "Pivot: Could you please back about that?\n",
            "Target: Pourriez-vous revenir à ce sujet?\n",
            "\n",
            "Source: Yebedi nkitaho.\n",
            "Pivot: We'll get along.\n",
            "Target: Nous allons nous entendre.\n",
            "\n",
            "Source: Woresɛe wommere\n",
            "Pivot: You lost your late\n",
            "Target: Tu as perdu ton retard.\n",
            "\n",
            "Source: So wowɔ adwuma bi a woyɛ no nkyɛn?\n",
            "Pivot: Do you have away of work?\n",
            "Target: Avez-vous quitté le travail?\n",
            "\n",
            "Source: So asamoah yɛɛ saa?\n",
            "Pivot: Did asamoah did?\n",
            "Target: Asamoah l'a fait?\n",
            "\n",
            "Source: Mfaso wɔ saa sini yi so sɛ wubehu no mpɛn pii.\n",
            "Pivot: This movie is not to see him many times.\n",
            "Target: Ce film ne doit pas le voir plusieurs fois.\n",
            "\n",
            "Source: Mede me nsa kyerɛɛ no so.\n",
            "Pivot: I pointed him my hand.\n",
            "Target: Je lui ai pointé ma main.\n",
            "\n",
            "Source: Minim nea mɛyɛ.\n",
            "Pivot: I know what i'll do.\n",
            "Target: Je sais ce que je vais faire.\n",
            "\n",
            "Source: Kuw no reba afuw no mu.\n",
            "Pivot: The team is coming into the house.\n",
            "Target: L'équipe rentre dans la maison.\n",
            "\n",
            "Source: Bere bɛn na etwa to koraa a wɔkyeree wo?\n",
            "Pivot: When was the last time you hunted?\n",
            "Target: À quand remonte la dernière fois que vous avez chassé?\n",
            "\n",
            "Source: Apasuɔ no ano nyɛ nnam.\n"
          ]
        }
      ],
      "source": [
        "!python /content/TW-FR-MT/MT_systems/opus/opus_pivot_translate.py \\\n",
        "/content/drive/MyDrive/MT/OPUS-mt-tw-en-tuned \\\n",
        "/content/drive/MyDrive/MT/OPUS-mt-en-fr-tuned \\\n",
        "/content/TW-FR-MT/TW_FR_EN_corpus/data/test/test_tw.txt \\\n",
        "--to_console True"
      ]
    }
  ],
  "metadata": {
    "accelerator": "GPU",
    "colab": {
      "include_colab_link": true,
      "provenance": []
    },
    "gpuClass": "standard",
    "kernelspec": {
      "display_name": "Python 3.8.10 64-bit",
      "language": "python",
      "name": "python3"
    },
    "language_info": {
      "codemirror_mode": {
        "name": "ipython",
        "version": 3
      },
      "file_extension": ".py",
      "mimetype": "text/x-python",
      "name": "python",
      "nbconvert_exporter": "python",
      "pygments_lexer": "ipython3",
      "version": "3.8.10"
    },
    "vscode": {
      "interpreter": {
        "hash": "31f2aee4e71d21fbe5cf8b01ff0e069b9275f58929596ceb00d14d90e3e16cd6"
      }
    }
  },
  "nbformat": 4,
  "nbformat_minor": 0
}
